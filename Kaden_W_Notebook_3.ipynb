{
  "nbformat": 4,
  "nbformat_minor": 0,
  "metadata": {
    "kernelspec": {
      "display_name": "Python 3",
      "language": "python",
      "name": "python3"
    },
    "language_info": {
      "codemirror_mode": {
        "name": "ipython",
        "version": 3
      },
      "file_extension": ".py",
      "mimetype": "text/x-python",
      "name": "python",
      "nbconvert_exporter": "python",
      "pygments_lexer": "ipython3",
      "version": "3.6.7"
    },
    "colab": {
      "provenance": [],
      "include_colab_link": true
    }
  },
  "cells": [
    {
      "cell_type": "markdown",
      "metadata": {
        "id": "view-in-github",
        "colab_type": "text"
      },
      "source": [
        "<a href=\"https://colab.research.google.com/github/kdkwall/Math-152/blob/main/Kaden_W_Notebook_3.ipynb\" target=\"_parent\"><img src=\"https://colab.research.google.com/assets/colab-badge.svg\" alt=\"Open In Colab\"/></a>"
      ]
    },
    {
      "cell_type": "markdown",
      "metadata": {
        "id": "6wh71ZCco1Nc"
      },
      "source": [
        "# Part 3:  Lists\n",
        "\n",
        "Python provides a powerful set of tools to create and manipulate lists of data. In this part, we take a deep dive into the Python list type.  This includes mutability, list methods, and slicing.\n",
        "\n",
        "\n",
        "Then we use Python lists to implement and optimize the Sieve of Eratosthenes, which will produce a list of all prime numbers up to a big number (like 10 million) in a snap. Along the way, we introduce some Python techniques for data analysis and visualization."
      ]
    },
    {
      "cell_type": "markdown",
      "metadata": {
        "id": "V1d8-qavo1Ng"
      },
      "source": [
        "## Primality testing"
      ]
    },
    {
      "cell_type": "markdown",
      "metadata": {
        "id": "o8GcrfMBo1Ng"
      },
      "source": [
        "Before diving into lists, we recall the **brute force** primality test that we created in the last lesson.  To test whether a number `n` is prime, we can simply check for factors.  This yields the following primality test."
      ]
    },
    {
      "cell_type": "code",
      "metadata": {
        "id": "PmShUfrWo1Nh"
      },
      "source": [
        "def is_prime(n):\n",
        "    '''\n",
        "    Checks whether the argument n is a prime number.\n",
        "    Uses a brute force search for factors between 1 and n.\n",
        "    '''\n",
        "    for j in range(2,n):  # the range of numbers 2,3,...,n-1.\n",
        "        if n%j == 0:  # is n divisible by j?\n",
        "            print(\"{} is a factor of {}.\".format(j,n))\n",
        "            return False\n",
        "    return True"
      ],
      "execution_count": null,
      "outputs": []
    },
    {
      "cell_type": "markdown",
      "metadata": {
        "id": "ps6dGQ_lo1Nh"
      },
      "source": [
        "We can also implement this test with a **while loop** instead of a for loop.  This doesn't make much of a difference, in Python 3.x.  (In Python 2.x, this would save memory)."
      ]
    },
    {
      "cell_type": "code",
      "metadata": {
        "id": "uyU1DxPjo1Nh"
      },
      "source": [
        "def is_prime(n):\n",
        "    '''\n",
        "    Checks whether the argument n is a prime number.\n",
        "    Uses a brute force search for factors between 1 and n.\n",
        "    '''\n",
        "    j = 2\n",
        "    while j < n:  # j will proceed through the list of numbers 2,3,...,n-1.\n",
        "        if n%j == 0:  # is n divisible by j?\n",
        "            print(\"{} is a factor of {}.\".format(j,n))\n",
        "            return False\n",
        "        j = j + 1  # There's a Python abbreviation for this:  j += 1.\n",
        "    return True"
      ],
      "execution_count": null,
      "outputs": []
    },
    {
      "cell_type": "code",
      "metadata": {
        "id": "n8VNDo3Ro1Nh",
        "colab": {
          "base_uri": "https://localhost:8080/"
        },
        "outputId": "3ebf1017-e3bb-4805-9746-3a99bb636541"
      },
      "source": [
        "is_prime(10001)"
      ],
      "execution_count": null,
      "outputs": [
        {
          "output_type": "stream",
          "name": "stdout",
          "text": [
            "73 is a factor of 10001.\n"
          ]
        },
        {
          "output_type": "execute_result",
          "data": {
            "text/plain": [
              "False"
            ]
          },
          "metadata": {},
          "execution_count": 29
        }
      ]
    },
    {
      "cell_type": "code",
      "metadata": {
        "id": "EwsTzmDJo1Nh",
        "colab": {
          "base_uri": "https://localhost:8080/"
        },
        "outputId": "8ba8fffd-a9cf-4206-b18e-0b1300f63fb5"
      },
      "source": [
        "is_prime(101)"
      ],
      "execution_count": null,
      "outputs": [
        {
          "output_type": "execute_result",
          "data": {
            "text/plain": [
              "True"
            ]
          },
          "metadata": {},
          "execution_count": 30
        }
      ]
    },
    {
      "cell_type": "markdown",
      "metadata": {
        "id": "LMiisxZko1Ni"
      },
      "source": [
        "If $n$ is a prime number, then the `is_prime(n)` function will iterate through all the numbers between $2$ and $n-1$.  But this is overkill!  Indeed, if $n$ is not prime, it will have a factor between $2$ and the square root of $n$.  This is because factors come in pairs:  if $ab = n$, then one of the factors, $a$ or $b$, must be less than or equal to the square root of $n$.  So it suffices to search for factors up to (and including) the square root of $n$."
      ]
    },
    {
      "cell_type": "markdown",
      "metadata": {
        "id": "QlS5mEtko1Ni"
      },
      "source": [
        "Even though we've made our own sqrt function, we load a fast one from the [standard math package](https://docs.python.org/3/library/math.html).  You can use this for square roots, trig functions, logs, and more.  Click the previous link for documentation.  This package doesn't load automatically when you start Python, so you have to load it with a little Python code."
      ]
    },
    {
      "cell_type": "code",
      "metadata": {
        "id": "StYgB3R2o1Ni"
      },
      "source": [
        "from math import sqrt"
      ],
      "execution_count": null,
      "outputs": []
    },
    {
      "cell_type": "markdown",
      "metadata": {
        "id": "g5qCsftto1Ni"
      },
      "source": [
        "This command **imports** the square root function (`sqrt`) from the **package** called `math`.  Now you can find square roots."
      ]
    },
    {
      "cell_type": "code",
      "metadata": {
        "id": "yky_CASQo1Ni",
        "colab": {
          "base_uri": "https://localhost:8080/"
        },
        "outputId": "f19630ea-c69b-4fad-abb1-8c15913cce24"
      },
      "source": [
        "sqrt(1000)"
      ],
      "execution_count": null,
      "outputs": [
        {
          "output_type": "execute_result",
          "data": {
            "text/plain": [
              "31.622776601683793"
            ]
          },
          "metadata": {},
          "execution_count": 32
        }
      ]
    },
    {
      "cell_type": "markdown",
      "metadata": {
        "id": "G6KIJi-Go1Ni"
      },
      "source": [
        "There are a few different ways to import functions from packages.  The above syntax is a good starting point, but sometimes problems can arise if different packages have functions with the same name.  Here are a few methods of importing the `sqrt` function and how they differ.\n",
        "\n",
        "`from math import sqrt`:  After this command, `sqrt` will refer to the function from the `math` package (overriding any previous definition).\n",
        "\n",
        "`import math`:  After this command, all the functions from the `math` package will be imported.  But to call `sqrt`, you would type a command like `math.sqrt(1000)`.  This is convenient if there are potential conflicts with other packages.\n",
        "\n",
        "`from math import *`:  After this command, all the functions from the `math` package will be imported.  To call them, you can access them directly with a command like `sqrt(1000)`.  This can easily cause conflicts with other packages, since packages can have hundreds of functions in them!\n",
        "\n",
        "`import math as mth`:  Some people like abbreviations.  This imports all the functions from the `math` package.  To call one, you type a command like `mth.sqrt(1000)`. "
      ]
    },
    {
      "cell_type": "code",
      "metadata": {
        "id": "DkMBWCH2o1Nj"
      },
      "source": [
        "import math"
      ],
      "execution_count": null,
      "outputs": []
    },
    {
      "cell_type": "code",
      "metadata": {
        "id": "JCOkoqBJo1Nj",
        "colab": {
          "base_uri": "https://localhost:8080/"
        },
        "outputId": "95d01a8a-c8e6-4e86-ddf9-c8ab43776ba6"
      },
      "source": [
        "math.sqrt(1000)"
      ],
      "execution_count": null,
      "outputs": [
        {
          "output_type": "execute_result",
          "data": {
            "text/plain": [
              "31.622776601683793"
            ]
          },
          "metadata": {},
          "execution_count": 34
        }
      ]
    },
    {
      "cell_type": "code",
      "metadata": {
        "id": "1wHHxCBvo1Nj",
        "colab": {
          "base_uri": "https://localhost:8080/",
          "height": 165
        },
        "outputId": "dafb3a67-8696-4cf9-9b3c-bcfc89faefcd"
      },
      "source": [
        "factorial(10)  # This will cause an error!"
      ],
      "execution_count": null,
      "outputs": [
        {
          "output_type": "error",
          "ename": "NameError",
          "evalue": "ignored",
          "traceback": [
            "\u001b[0;31m---------------------------------------------------------------------------\u001b[0m",
            "\u001b[0;31mNameError\u001b[0m                                 Traceback (most recent call last)",
            "\u001b[0;32m<ipython-input-35-e379444d4994>\u001b[0m in \u001b[0;36m<module>\u001b[0;34m\u001b[0m\n\u001b[0;32m----> 1\u001b[0;31m \u001b[0mfactorial\u001b[0m\u001b[0;34m(\u001b[0m\u001b[0;36m10\u001b[0m\u001b[0;34m)\u001b[0m  \u001b[0;31m# This will cause an error!\u001b[0m\u001b[0;34m\u001b[0m\u001b[0;34m\u001b[0m\u001b[0m\n\u001b[0m",
            "\u001b[0;31mNameError\u001b[0m: name 'factorial' is not defined"
          ]
        }
      ]
    },
    {
      "cell_type": "code",
      "metadata": {
        "id": "q3_f65bdo1Nj",
        "colab": {
          "base_uri": "https://localhost:8080/"
        },
        "outputId": "b56e29d0-cc9e-4113-9e9b-d0d7fed70e58"
      },
      "source": [
        "math.factorial(10)  # This is ok, since the math package comes with a function called factorial."
      ],
      "execution_count": null,
      "outputs": [
        {
          "output_type": "execute_result",
          "data": {
            "text/plain": [
              "3628800"
            ]
          },
          "metadata": {},
          "execution_count": 36
        }
      ]
    },
    {
      "cell_type": "markdown",
      "metadata": {
        "id": "PercB7IRo1Nj"
      },
      "source": [
        "Now let's improve our `is_prime(n)` function by searching for factors only up to the square root of the number `n`.  We consider two options."
      ]
    },
    {
      "cell_type": "code",
      "metadata": {
        "id": "1jFrsNtvo1Nj"
      },
      "source": [
        "def is_prime_slow(n):\n",
        "    '''\n",
        "    Checks whether the argument n is a prime number.\n",
        "    Uses a brute force search for factors between 1 and n.\n",
        "    '''\n",
        "    j = 2\n",
        "    while j <= sqrt(n):  # j will proceed through the list of numbers 2,3,... up to sqrt(n).\n",
        "        if n%j == 0:  # is n divisible by j?\n",
        "            \n",
        "            return False\n",
        "        j = j + 1  # There's a Python abbreviation for this:  j += 1.\n",
        "    return True"
      ],
      "execution_count": null,
      "outputs": []
    },
    {
      "cell_type": "code",
      "metadata": {
        "id": "kivEWwP8o1Nj"
      },
      "source": [
        "def is_prime_fast(n):\n",
        "    '''\n",
        "    Checks whether the argument n is a prime number.\n",
        "    Uses a brute force search for factors between 1 and n.\n",
        "    '''\n",
        "    j = 2\n",
        "    root_n = sqrt(n)\n",
        "    while j <= root_n:  # j will proceed through the list of numbers 2,3,... up to sqrt(n).\n",
        "        if n%j == 0:  # is n divisible by j?\n",
        "            \n",
        "            return False\n",
        "        j = j + 1  # There's a Python abbreviation for this:  j += 1.\n",
        "    return True"
      ],
      "execution_count": null,
      "outputs": []
    },
    {
      "cell_type": "code",
      "metadata": {
        "id": "MYRn_kwAo1Nk",
        "colab": {
          "base_uri": "https://localhost:8080/"
        },
        "outputId": "0c25b996-c167-4279-d0c4-ba2bf18648b9"
      },
      "source": [
        "is_prime_fast(1000003)"
      ],
      "execution_count": null,
      "outputs": [
        {
          "output_type": "execute_result",
          "data": {
            "text/plain": [
              "True"
            ]
          },
          "metadata": {},
          "execution_count": 39
        }
      ]
    },
    {
      "cell_type": "code",
      "metadata": {
        "id": "CycTNs3Yo1Nk",
        "colab": {
          "base_uri": "https://localhost:8080/"
        },
        "outputId": "af118f7c-dc27-407d-acbe-85515e5fb9a8"
      },
      "source": [
        "is_prime_slow(1000003)"
      ],
      "execution_count": null,
      "outputs": [
        {
          "output_type": "execute_result",
          "data": {
            "text/plain": [
              "True"
            ]
          },
          "metadata": {},
          "execution_count": 40
        }
      ]
    },
    {
      "cell_type": "markdown",
      "metadata": {
        "id": "a2_C-DRco1Nk"
      },
      "source": [
        "I've chosen function names with \"fast\" and \"slow\" in them.  But what makes them faster or slower?  Are they faster than the original?  And how can we tell?\n",
        "\n",
        "Python comes with a great set of tools for these questions.  The simplest (for the user) are the time utilities.  By placing the **magic** `%timeit` before a command, Python does something like the following:\n",
        "\n",
        "1.  Python makes a little container in your computer devoted to the computations, to avoid interference from other running programs if possible.\n",
        "2.  Python executes the command lots and lots of times.\n",
        "3.  Python averages the amount of time taken for each execution.  \n",
        "\n",
        "Give it a try below, to compare the speed of the functions `is_prime` (the original) with the new `is_prime_fast` and `is_prime_slow`.  Note that the `%timeit` commands might take a little while."
      ]
    },
    {
      "cell_type": "markdown",
      "metadata": {
        "id": "gBRDJBA3a2U9"
      },
      "source": [
        "*Warning!*  Before running the is_prime_fast and is_prime_slow functions within %timeit, please *remove* all print statements from the functions and recompile them.  Otherwise, you might end up printing a million things in your browser window, possibly crashing your computer."
      ]
    },
    {
      "cell_type": "code",
      "metadata": {
        "id": "9362eqX8o1Nk",
        "colab": {
          "base_uri": "https://localhost:8080/"
        },
        "outputId": "00a07e7b-3eb1-449b-92b6-4310daa4ce04"
      },
      "source": [
        "%timeit is_prime_fast(1000003)"
      ],
      "execution_count": null,
      "outputs": [
        {
          "output_type": "stream",
          "name": "stdout",
          "text": [
            "181 µs ± 52.5 µs per loop (mean ± std. dev. of 7 runs, 10000 loops each)\n"
          ]
        }
      ]
    },
    {
      "cell_type": "code",
      "metadata": {
        "id": "GlQqgs6Fo1Nk",
        "colab": {
          "base_uri": "https://localhost:8080/"
        },
        "outputId": "a0c50d2f-ea9f-4e0b-ca0c-8649397766d3"
      },
      "source": [
        "%timeit is_prime_slow(1000003)"
      ],
      "execution_count": null,
      "outputs": [
        {
          "output_type": "stream",
          "name": "stdout",
          "text": [
            "214 µs ± 4.71 µs per loop (mean ± std. dev. of 7 runs, 1000 loops each)\n"
          ]
        }
      ]
    },
    {
      "cell_type": "code",
      "metadata": {
        "id": "MMoNyEsOo1Nk",
        "colab": {
          "base_uri": "https://localhost:8080/"
        },
        "outputId": "8d5dc8a2-71e3-47c6-aae6-432c4551024f"
      },
      "source": [
        "%timeit is_prime(1000003)"
      ],
      "execution_count": null,
      "outputs": [
        {
          "output_type": "stream",
          "name": "stdout",
          "text": [
            "139 ms ± 2.23 ms per loop (mean ± std. dev. of 7 runs, 10 loops each)\n"
          ]
        }
      ]
    },
    {
      "cell_type": "markdown",
      "metadata": {
        "id": "uR7IkJbEo1Nk"
      },
      "source": [
        "Time is measured in seconds, milliseconds (1 ms = 1/1000 second), microseconds (1 µs = 1/1,000,000 second), and nanoseconds (1 ns = 1/1,000,000,000 second).  So it might appear at first that `is_prime` is the fastest, or about the same speed.  But check the units!  The other two approaches are about a thousand times faster!  How much faster were they on your computer?"
      ]
    },
    {
      "cell_type": "code",
      "metadata": {
        "id": "hPOknCuUo1Nk",
        "colab": {
          "base_uri": "https://localhost:8080/"
        },
        "outputId": "c2f9d316-041d-4378-d645-d5962f2ff0e5"
      },
      "source": [
        "is_prime_fast(10000000000037)  # Don't try this with `is_prime` unless you want to wait for a long time!"
      ],
      "execution_count": null,
      "outputs": [
        {
          "output_type": "execute_result",
          "data": {
            "text/plain": [
              "True"
            ]
          },
          "metadata": {},
          "execution_count": 44
        }
      ]
    },
    {
      "cell_type": "markdown",
      "metadata": {
        "id": "YtkronFFo1Nl"
      },
      "source": [
        "Indeed, the `is_prime_fast(n)` function will go through a loop of length about `sqrt(n)` when `n` is prime.  But `is_prime(n)` will go through a loop of length about `n`.  Since `sqrt(n)` is much less than `n`, especially when `n` is large, the `is_prime_fast(n)` function is much faster.\n",
        "\n",
        "Between `is_prime_fast` and `is_prime_slow`, the difference is that the `fast` version **precomputes** the square root `sqrt(n)` before going through the loop, where the `slow` version repeats the `sqrt(n)` every time the loop is repeated.  Indeed, writing `while j <= sqrt(n):` suggests that Python might execute `sqrt(n)` every time to check.  This *might* lead to Python computing the same square root a million times... unnecessarily!  \n",
        "\n",
        "A basic principle of programming is to **avoid repetition**.  If you have the memory space, just compute once and store the result.  It will probably be faster to pull the result out of memory than to compute it again.\n",
        "\n",
        "Python does tend to be pretty smart, however.  It's possible that Python **is precomputing** `sqrt(n)` even in the slow loop, just because it's clever enough to tell in advance that the same thing is being computed over and over again.  This depends on your Python version and takes place behind the scenes.  If you want to figure it out, there's a whole set of tools (for advanced programmers) like the [disassembler](https://docs.python.org/3/library/dis.html) to figure out what Python is doing.\n",
        "\n",
        "If you feel like looking under the hood, the next few lines will display the `is_prime_fast` and `is_prime_slow` functions to bytecode.  Can you see how the `sqrt(n)` computation is carried out differently?"
      ]
    },
    {
      "cell_type": "code",
      "metadata": {
        "id": "hislzK3Lo1Nl"
      },
      "source": [
        "from dis import dis"
      ],
      "execution_count": null,
      "outputs": []
    },
    {
      "cell_type": "code",
      "metadata": {
        "id": "wQX1FSObo1Nl",
        "colab": {
          "base_uri": "https://localhost:8080/"
        },
        "outputId": "7c3ccc0a-9c16-4f00-e0d2-f71d406635b3"
      },
      "source": [
        "dis(is_prime_fast)"
      ],
      "execution_count": null,
      "outputs": [
        {
          "output_type": "stream",
          "name": "stdout",
          "text": [
            "  6           0 LOAD_CONST               1 (2)\n",
            "              2 STORE_FAST               1 (j)\n",
            "\n",
            "  7           4 LOAD_GLOBAL              0 (sqrt)\n",
            "              6 LOAD_FAST                0 (n)\n",
            "              8 CALL_FUNCTION            1\n",
            "             10 STORE_FAST               2 (root_n)\n",
            "\n",
            "  8     >>   12 LOAD_FAST                1 (j)\n",
            "             14 LOAD_FAST                2 (root_n)\n",
            "             16 COMPARE_OP               1 (<=)\n",
            "             18 POP_JUMP_IF_FALSE       46\n",
            "\n",
            "  9          20 LOAD_FAST                0 (n)\n",
            "             22 LOAD_FAST                1 (j)\n",
            "             24 BINARY_MODULO\n",
            "             26 LOAD_CONST               2 (0)\n",
            "             28 COMPARE_OP               2 (==)\n",
            "             30 POP_JUMP_IF_FALSE       36\n",
            "\n",
            " 11          32 LOAD_CONST               3 (False)\n",
            "             34 RETURN_VALUE\n",
            "\n",
            " 12     >>   36 LOAD_FAST                1 (j)\n",
            "             38 LOAD_CONST               4 (1)\n",
            "             40 BINARY_ADD\n",
            "             42 STORE_FAST               1 (j)\n",
            "             44 JUMP_ABSOLUTE           12\n",
            "\n",
            " 13     >>   46 LOAD_CONST               5 (True)\n",
            "             48 RETURN_VALUE\n"
          ]
        }
      ]
    },
    {
      "cell_type": "code",
      "metadata": {
        "id": "M_T0805ko1Nl",
        "colab": {
          "base_uri": "https://localhost:8080/"
        },
        "outputId": "95e8d43e-0d6c-4db0-cede-f50a825b6446"
      },
      "source": [
        "dis(is_prime_slow)"
      ],
      "execution_count": null,
      "outputs": [
        {
          "output_type": "stream",
          "name": "stdout",
          "text": [
            "  6           0 LOAD_CONST               1 (2)\n",
            "              2 STORE_FAST               1 (j)\n",
            "\n",
            "  7     >>    4 LOAD_FAST                1 (j)\n",
            "              6 LOAD_GLOBAL              0 (sqrt)\n",
            "              8 LOAD_FAST                0 (n)\n",
            "             10 CALL_FUNCTION            1\n",
            "             12 COMPARE_OP               1 (<=)\n",
            "             14 POP_JUMP_IF_FALSE       42\n",
            "\n",
            "  8          16 LOAD_FAST                0 (n)\n",
            "             18 LOAD_FAST                1 (j)\n",
            "             20 BINARY_MODULO\n",
            "             22 LOAD_CONST               2 (0)\n",
            "             24 COMPARE_OP               2 (==)\n",
            "             26 POP_JUMP_IF_FALSE       32\n",
            "\n",
            " 10          28 LOAD_CONST               3 (False)\n",
            "             30 RETURN_VALUE\n",
            "\n",
            " 11     >>   32 LOAD_FAST                1 (j)\n",
            "             34 LOAD_CONST               4 (1)\n",
            "             36 BINARY_ADD\n",
            "             38 STORE_FAST               1 (j)\n",
            "             40 JUMP_ABSOLUTE            4\n",
            "\n",
            " 12     >>   42 LOAD_CONST               5 (True)\n",
            "             44 RETURN_VALUE\n"
          ]
        }
      ]
    },
    {
      "cell_type": "code",
      "metadata": {
        "id": "1mendW3Uo1Nl",
        "colab": {
          "base_uri": "https://localhost:8080/"
        },
        "outputId": "b00934fb-5ba7-4eeb-f1d9-27ce100c6063"
      },
      "source": [
        "is_prime_fast(10**14 + 37) # This might get a bit of delay."
      ],
      "execution_count": null,
      "outputs": [
        {
          "output_type": "execute_result",
          "data": {
            "text/plain": [
              "False"
            ]
          },
          "metadata": {},
          "execution_count": 48
        }
      ]
    },
    {
      "cell_type": "markdown",
      "metadata": {
        "id": "DUEOKxtoo1Nm"
      },
      "source": [
        "Now we have a function `is_prime_fast(n)` that is speedy for numbers `n` in the trillions!  You'll probably start to hit a delay around $10^{15}$ or so, and the delays will become intolerable if you add too many more digits.  In a future lesson, we will see a different primality test that will be essentially instant even for numbers around $10^{1000}$!  "
      ]
    },
    {
      "cell_type": "markdown",
      "metadata": {
        "id": "NCv3bAIco1Nm"
      },
      "source": [
        "### Exercises\n",
        "\n",
        "1.  To check whether a number `n` is prime, you can first check whether `n` is even, and then check whether `n` has any odd factors.  Change the `is_prime_fast` function by implementing this improvement.  How much of a speedup did you get?\n",
        "\n",
        "2.  Use the `%timeit` tool to study the speed of `is_prime_fast` for various sizes of `n`.  Using about 10 data points, relate the size of `n` to the time taken by the `is_prime_fast` function.\n",
        "\n",
        "3.  Write a function `is_square(n)` to test whether a given integer `n` is a perfect square (like 0, 1, 4, 9, 16, etc.).  How fast can you make it run?  Describe the different approaches you try and which are fastest."
      ]
    },
    {
      "cell_type": "code",
      "source": [
        "def is_prime_fast_01(n):\n",
        "    if n%2==0:\n",
        "      return False\n",
        "    else:\n",
        "      j = 3\n",
        "    \n",
        "    while j <= n:\n",
        "        if n%j == 0:  # is n divisible by j?\n",
        "            \n",
        "            return False\n",
        "        j += 2\n",
        "    return True"
      ],
      "metadata": {
        "id": "1Qrt9zbZM2Qh"
      },
      "execution_count": null,
      "outputs": []
    },
    {
      "cell_type": "code",
      "source": [
        "%timeit is_prime_fast_01(10003)\n",
        "%timeit is_prime_fast(10003)\n",
        "%timeit is_prime_fast_01(100003)\n",
        "%timeit is_prime_fast(100003)\n",
        "%timeit is_prime_fast_01(1000003)\n",
        "%timeit is_prime_fast(1000003)\n",
        "%timeit is_prime_fast_01(102)\n",
        "%timeit is_prime_fast(102)\n",
        "%timeit is_prime_fast_01(71)\n",
        "%timeit is_prime_fast(71)\n",
        "%timeit is_prime_fast_01(7)\n",
        "%timeit is_prime_fast(7)\n",
        "%timeit is_prime_fast_01(11)\n",
        "%timeit is_prime_fast(11)\n",
        "%timeit is_prime_fast_01(2)\n",
        "%timeit is_prime_fast(2)\n",
        "%timeit is_prime_fast_01(83)\n",
        "%timeit is_prime_fast(83)\n",
        "%timeit is_prime_fast_01(73)\n",
        "%timeit is_prime_fast(73)\n"
      ],
      "metadata": {
        "colab": {
          "base_uri": "https://localhost:8080/"
        },
        "id": "x7eLkQarM168",
        "outputId": "9fab2237-005e-4abb-a5b6-c28ff0b511a5"
      },
      "execution_count": null,
      "outputs": [
        {
          "output_type": "stream",
          "name": "stdout",
          "text": [
            "712 ns ± 223 ns per loop (mean ± std. dev. of 7 runs, 1000000 loops each)\n",
            "1.19 µs ± 368 ns per loop (mean ± std. dev. of 7 runs, 1000000 loops each)\n",
            "6.92 ms ± 49.7 µs per loop (mean ± std. dev. of 7 runs, 100 loops each)\n",
            "68.5 µs ± 20.5 µs per loop (mean ± std. dev. of 7 runs, 10000 loops each)\n",
            "79.4 ms ± 25.5 ms per loop (mean ± std. dev. of 7 runs, 10 loops each)\n",
            "174 µs ± 46.9 µs per loop (mean ± std. dev. of 7 runs, 10000 loops each)\n",
            "143 ns ± 7.66 ns per loop (mean ± std. dev. of 7 runs, 10000000 loops each)\n",
            "476 ns ± 114 ns per loop (mean ± std. dev. of 7 runs, 1000000 loops each)\n",
            "4.34 µs ± 90.5 ns per loop (mean ± std. dev. of 7 runs, 100000 loops each)\n",
            "1.42 µs ± 442 ns per loop (mean ± std. dev. of 7 runs, 1000000 loops each)\n",
            "492 ns ± 1.59 ns per loop (mean ± std. dev. of 7 runs, 1000000 loops each)\n",
            "366 ns ± 7.82 ns per loop (mean ± std. dev. of 7 runs, 1000000 loops each)\n",
            "925 ns ± 304 ns per loop (mean ± std. dev. of 7 runs, 1000000 loops each)\n",
            "514 ns ± 9.25 ns per loop (mean ± std. dev. of 7 runs, 1000000 loops each)\n",
            "160 ns ± 39 ns per loop (mean ± std. dev. of 7 runs, 10000000 loops each)\n",
            "203 ns ± 5.23 ns per loop (mean ± std. dev. of 7 runs, 1000000 loops each)\n",
            "6.72 µs ± 2.24 µs per loop (mean ± std. dev. of 7 runs, 100000 loops each)\n",
            "1.56 µs ± 332 ns per loop (mean ± std. dev. of 7 runs, 1000000 loops each)\n",
            "4.52 µs ± 135 ns per loop (mean ± std. dev. of 7 runs, 100000 loops each)\n",
            "1.42 µs ± 327 ns per loop (mean ± std. dev. of 7 runs, 1000000 loops each)\n"
          ]
        }
      ]
    },
    {
      "cell_type": "code",
      "source": [
        "def is_square_01(n):\n",
        "  p=n/n\n",
        "  if n==0:\n",
        "    return True\n",
        "  elif p==1.0:\n",
        "    return True\n",
        "  else: \n",
        "    return False\n",
        "\n",
        "\n",
        "def is_square_02(n):\n",
        "  if n==0:\n",
        "    return True\n",
        "  elif int(sqrt(n))==sqrt(n):\n",
        "    return True\n",
        "  else:\n",
        "    return False\n",
        "\n",
        "\n",
        "\n",
        "\n"
      ],
      "metadata": {
        "id": "lJfcH1aiQ77J"
      },
      "execution_count": null,
      "outputs": []
    },
    {
      "cell_type": "markdown",
      "source": [],
      "metadata": {
        "id": "191PWo0YRWQP"
      }
    },
    {
      "cell_type": "code",
      "source": [
        "is_square_01(21)"
      ],
      "metadata": {
        "colab": {
          "base_uri": "https://localhost:8080/"
        },
        "id": "3EquHSHNRWnW",
        "outputId": "5e232c33-a3e1-46ab-c553-c7e5bf894eca"
      },
      "execution_count": null,
      "outputs": [
        {
          "output_type": "execute_result",
          "data": {
            "text/plain": [
              "True"
            ]
          },
          "metadata": {},
          "execution_count": 53
        }
      ]
    },
    {
      "cell_type": "code",
      "source": [
        "is_square_02(21)"
      ],
      "metadata": {
        "colab": {
          "base_uri": "https://localhost:8080/"
        },
        "id": "2KBAeLjFWZT8",
        "outputId": "e1d9099b-e503-40e5-cf48-4714acf9752b"
      },
      "execution_count": null,
      "outputs": [
        {
          "output_type": "execute_result",
          "data": {
            "text/plain": [
              "False"
            ]
          },
          "metadata": {},
          "execution_count": 54
        }
      ]
    },
    {
      "cell_type": "code",
      "source": [
        "%timeit is_square_02(16)"
      ],
      "metadata": {
        "colab": {
          "base_uri": "https://localhost:8080/"
        },
        "id": "KxRamZdMWbl0",
        "outputId": "e09690fd-d701-4f26-a775-186607b7797f"
      },
      "execution_count": null,
      "outputs": [
        {
          "output_type": "stream",
          "name": "stdout",
          "text": [
            "366 ns ± 8.59 ns per loop (mean ± std. dev. of 7 runs, 1000000 loops each)\n"
          ]
        }
      ]
    },
    {
      "cell_type": "markdown",
      "source": [
        "I can't really think of another way to do it that would be faster."
      ],
      "metadata": {
        "id": "s00CEkeQXWls"
      }
    },
    {
      "cell_type": "markdown",
      "metadata": {
        "id": "J_Xx10hBo1Nm"
      },
      "source": [
        "## List manipulation"
      ]
    },
    {
      "cell_type": "markdown",
      "metadata": {
        "id": "7Wd7YSnxo1Nm"
      },
      "source": [
        "We have already (briefly) encountered the `list` type in Python.  Recall that the `range` command produces a range, which can be used to produce a list.  For example, `list(range(10))` produces the list `[0,1,2,3,4,5,6,7,8,9]`.  You can also create your own list by a writing out its terms, e.g. `L = [4,7,10]`.\n",
        "\n",
        "Here we work with lists, and a very Pythonic approach to list manipulation.  With practice, this can be a powerful tool to write fast algorithms, exploiting the hard-wired capability of your computer to shift and slice large chunks of data.  Our eventual application will be to implement the Sieve of Eratosthenes, producing a long list of prime numbers (without using any `is_prime` test along the way)."
      ]
    },
    {
      "cell_type": "markdown",
      "metadata": {
        "id": "60AyLZgto1Nm"
      },
      "source": [
        "We begin by creating a list to play with.  We mix numbers and strings... just for fun."
      ]
    },
    {
      "cell_type": "code",
      "metadata": {
        "id": "LqlPEQ6jo1Nm"
      },
      "source": [
        "L = [0,'one',2,'three',4,'five',6,'seven',8,'nine',10]"
      ],
      "execution_count": null,
      "outputs": []
    },
    {
      "cell_type": "markdown",
      "metadata": {
        "id": "k3Isc4hVo1Nm"
      },
      "source": [
        "### List terms and indices\n",
        "\n",
        "Notice that the entries in a list can be of any type.  The above list `L` has some integer entries and some string entries.  Lists are **ordered** in Python, **starting at zero**.  One can access the $n^{th}$ entry in a list with a command like `L[n]`.  "
      ]
    },
    {
      "cell_type": "code",
      "metadata": {
        "id": "P6pVVcg7o1Nn",
        "colab": {
          "base_uri": "https://localhost:8080/",
          "height": 35
        },
        "outputId": "fa196e3f-a50c-4857-d2fa-d8a773e54b76"
      },
      "source": [
        "L[3]"
      ],
      "execution_count": null,
      "outputs": [
        {
          "output_type": "execute_result",
          "data": {
            "text/plain": [
              "'three'"
            ],
            "application/vnd.google.colaboratory.intrinsic+json": {
              "type": "string"
            }
          },
          "metadata": {},
          "execution_count": 57
        }
      ]
    },
    {
      "cell_type": "code",
      "metadata": {
        "id": "jX8qwH8Co1Nn",
        "colab": {
          "base_uri": "https://localhost:8080/"
        },
        "outputId": "3b1d623a-ecba-45a0-a47b-876295b062d2"
      },
      "source": [
        "print(L[3])  # Note that Python has slightly different approaches to the print-function, and the output above."
      ],
      "execution_count": null,
      "outputs": [
        {
          "output_type": "stream",
          "name": "stdout",
          "text": [
            "three\n"
          ]
        }
      ]
    },
    {
      "cell_type": "code",
      "metadata": {
        "id": "SrEwDHyRo1Nn",
        "colab": {
          "base_uri": "https://localhost:8080/"
        },
        "outputId": "35159988-a0bf-48f3-f98b-58c3c1e63203"
      },
      "source": [
        "print(L[4])  # We will use the print function, because it makes our printing intentions clear."
      ],
      "execution_count": null,
      "outputs": [
        {
          "output_type": "stream",
          "name": "stdout",
          "text": [
            "4\n"
          ]
        }
      ]
    },
    {
      "cell_type": "code",
      "metadata": {
        "id": "Z-ZCNLx4o1Nn",
        "colab": {
          "base_uri": "https://localhost:8080/"
        },
        "outputId": "6e9e3273-1ce1-4770-939e-26d7ed90b2d0"
      },
      "source": [
        "print(L[0])"
      ],
      "execution_count": null,
      "outputs": [
        {
          "output_type": "stream",
          "name": "stdout",
          "text": [
            "0\n"
          ]
        }
      ]
    },
    {
      "cell_type": "markdown",
      "metadata": {
        "id": "9Rd1gPF9o1Nn"
      },
      "source": [
        "The location of an entry is called its **index**.  So *at* the index 3, the list `L` stores the entry `three`.  Note that the same entry can occur in many places in a list.  E.g. `[7,7,7]` is a list with 7 at the zeroth, first, and second index."
      ]
    },
    {
      "cell_type": "code",
      "metadata": {
        "id": "SHWaHBmAo1Nn",
        "colab": {
          "base_uri": "https://localhost:8080/"
        },
        "outputId": "d2600f96-b37c-46b8-aada-87b75543acd2"
      },
      "source": [
        "print(L[-1])\n",
        "print(L[-2])"
      ],
      "execution_count": null,
      "outputs": [
        {
          "output_type": "stream",
          "name": "stdout",
          "text": [
            "10\n",
            "nine\n"
          ]
        }
      ]
    },
    {
      "cell_type": "markdown",
      "metadata": {
        "id": "N8U8KO9Do1Nn"
      },
      "source": [
        "The last bit of code demonstrates a cool Python trick.  The \"-1st\" entry in a list refers to the last entry. The \"-2nd entry\" refers to the second-to-last entry, and so on.  It gives a convenient way to access both sides of the list, even if you don't know how long it is.\n",
        "\n",
        "Of course, you can use Python to find out how long a list is."
      ]
    },
    {
      "cell_type": "code",
      "metadata": {
        "id": "U69qteuto1Nn",
        "colab": {
          "base_uri": "https://localhost:8080/"
        },
        "outputId": "92864dfb-0ac9-4b03-f0cb-7e5838c123ef"
      },
      "source": [
        "len(L)"
      ],
      "execution_count": null,
      "outputs": [
        {
          "output_type": "execute_result",
          "data": {
            "text/plain": [
              "11"
            ]
          },
          "metadata": {},
          "execution_count": 62
        }
      ]
    },
    {
      "cell_type": "markdown",
      "metadata": {
        "id": "pVI66GEIo1No"
      },
      "source": [
        "You can also use Python to find the sum of a list of numbers."
      ]
    },
    {
      "cell_type": "code",
      "metadata": {
        "id": "XmBojrfto1No",
        "colab": {
          "base_uri": "https://localhost:8080/"
        },
        "outputId": "96949565-6b29-43b3-8c39-7ed45346754f"
      },
      "source": [
        "sum([1,2,3,4,5])"
      ],
      "execution_count": null,
      "outputs": [
        {
          "output_type": "execute_result",
          "data": {
            "text/plain": [
              "15"
            ]
          },
          "metadata": {},
          "execution_count": 63
        }
      ]
    },
    {
      "cell_type": "code",
      "metadata": {
        "id": "7vO8uSwho1No",
        "colab": {
          "base_uri": "https://localhost:8080/"
        },
        "outputId": "bf677818-ceb6-4ca6-95fe-99b986a7caca"
      },
      "source": [
        "sum(range(100))  # Be careful.  This is the sum of which numbers?  # The sum function can take lists or ranges."
      ],
      "execution_count": null,
      "outputs": [
        {
          "output_type": "execute_result",
          "data": {
            "text/plain": [
              "4950"
            ]
          },
          "metadata": {},
          "execution_count": 64
        }
      ]
    },
    {
      "cell_type": "markdown",
      "metadata": {
        "id": "Gk4qkCSEo1No"
      },
      "source": [
        "### List slicing\n",
        "\n",
        "**Slicing** lists allows us to create new lists (or ranges) from old lists (or ranges), by chopping off one end or the other, or even slicing out entries at a fixed interval.  The simplest syntax has the form `L[a:b]` where `a` denotes the index of the starting entry and index of the final entry is one less than `b`.  It is best to try a few examples to get a feel for it.\n",
        "\n",
        "Slicing a list with a command like `L[a:b]` doesn't actually *change* the original list `L`.  It just extracts some terms from the list and outputs those terms.  Soon enough, we will change the list `L` using a list assignment."
      ]
    },
    {
      "cell_type": "code",
      "metadata": {
        "id": "8QNDpqJ9o1No",
        "colab": {
          "base_uri": "https://localhost:8080/"
        },
        "outputId": "52f3fa62-1e9e-440a-be28-61a4afb6cd64"
      },
      "source": [
        "L[0:5]"
      ],
      "execution_count": null,
      "outputs": [
        {
          "output_type": "execute_result",
          "data": {
            "text/plain": [
              "[0, 'one', 2, 'three', 4]"
            ]
          },
          "metadata": {},
          "execution_count": 65
        }
      ]
    },
    {
      "cell_type": "code",
      "metadata": {
        "id": "gzEnfHqvo1No",
        "colab": {
          "base_uri": "https://localhost:8080/"
        },
        "outputId": "32e137d6-2930-499c-a904-856fcce8946d"
      },
      "source": [
        "L[5:11]  # Notice that L[0:5] and L[5:11] together recover the whole list."
      ],
      "execution_count": null,
      "outputs": [
        {
          "output_type": "execute_result",
          "data": {
            "text/plain": [
              "['five', 6, 'seven', 8, 'nine', 10]"
            ]
          },
          "metadata": {},
          "execution_count": 66
        }
      ]
    },
    {
      "cell_type": "code",
      "metadata": {
        "id": "MOzb4reTo1No",
        "colab": {
          "base_uri": "https://localhost:8080/"
        },
        "outputId": "1fe7c4da-c996-4cc9-d4c6-f6e7c2e05e1e"
      },
      "source": [
        "L[3:7]"
      ],
      "execution_count": null,
      "outputs": [
        {
          "output_type": "execute_result",
          "data": {
            "text/plain": [
              "['three', 4, 'five', 6]"
            ]
          },
          "metadata": {},
          "execution_count": 67
        }
      ]
    },
    {
      "cell_type": "markdown",
      "metadata": {
        "id": "Z1VPqRtoo1No"
      },
      "source": [
        "This continues the strange (for beginners) Python convention of starting at the first number and ending just before the last number.  Compare to `range(3,7)`, for example.  "
      ]
    },
    {
      "cell_type": "markdown",
      "metadata": {
        "id": "MrnvG511o1No"
      },
      "source": [
        "The command `L[0:5]` can be replaced by `L[:5]` to abbreviate.  The empty opening index tells Python to start at the beginning.  Similarly, the command `L[5:11]` can be replaced by `L[5:]`.  The empty closing index tells Python to end the slice and the end.  This is helpful if one doesn't know where the list ends."
      ]
    },
    {
      "cell_type": "code",
      "metadata": {
        "id": "-jgLcoWWo1Nq",
        "colab": {
          "base_uri": "https://localhost:8080/"
        },
        "outputId": "6b761c22-1f90-4e70-cf77-4390b48f2700"
      },
      "source": [
        "L[:5]"
      ],
      "execution_count": null,
      "outputs": [
        {
          "output_type": "execute_result",
          "data": {
            "text/plain": [
              "[0, 'one', 2, 'three', 4]"
            ]
          },
          "metadata": {},
          "execution_count": 68
        }
      ]
    },
    {
      "cell_type": "code",
      "metadata": {
        "id": "RC8VS_66o1Nq",
        "colab": {
          "base_uri": "https://localhost:8080/"
        },
        "outputId": "bdf5594f-d73d-4127-bc70-fdd66486d66e"
      },
      "source": [
        "L[3:]"
      ],
      "execution_count": null,
      "outputs": [
        {
          "output_type": "execute_result",
          "data": {
            "text/plain": [
              "['three', 4, 'five', 6, 'seven', 8, 'nine', 10]"
            ]
          },
          "metadata": {},
          "execution_count": 69
        }
      ]
    },
    {
      "cell_type": "markdown",
      "metadata": {
        "id": "NNnM3hfOo1Nq"
      },
      "source": [
        "Just like the `range` command, list slicing can take an optional third argument to give a step size.  To understand this, try the command below."
      ]
    },
    {
      "cell_type": "code",
      "metadata": {
        "id": "zoxAvxDdo1Nq",
        "colab": {
          "base_uri": "https://localhost:8080/"
        },
        "outputId": "5742c83f-4987-489f-b225-70bf2c584072"
      },
      "source": [
        "L[2:10]"
      ],
      "execution_count": null,
      "outputs": [
        {
          "output_type": "execute_result",
          "data": {
            "text/plain": [
              "[2, 'three', 4, 'five', 6, 'seven', 8, 'nine']"
            ]
          },
          "metadata": {},
          "execution_count": 70
        }
      ]
    },
    {
      "cell_type": "code",
      "metadata": {
        "id": "81Afdz7do1Nq",
        "colab": {
          "base_uri": "https://localhost:8080/"
        },
        "outputId": "8004acac-00c2-487a-db7c-269eb6c329df"
      },
      "source": [
        "L[2:10:3]"
      ],
      "execution_count": null,
      "outputs": [
        {
          "output_type": "execute_result",
          "data": {
            "text/plain": [
              "[2, 'five', 8]"
            ]
          },
          "metadata": {},
          "execution_count": 71
        }
      ]
    },
    {
      "cell_type": "markdown",
      "metadata": {
        "id": "Ge3CcbYbo1Nq"
      },
      "source": [
        "If, in this three-argument syntax, the first or second argument is absent, then the slice starts at the beginning of the list or ends at the end of the list accordingly."
      ]
    },
    {
      "cell_type": "code",
      "metadata": {
        "id": "qpComE9ao1Nq",
        "colab": {
          "base_uri": "https://localhost:8080/"
        },
        "outputId": "008ac386-5437-4913-b1fe-532ca859b950"
      },
      "source": [
        "L  # Just a reminder.  We haven't modified the original list!"
      ],
      "execution_count": null,
      "outputs": [
        {
          "output_type": "execute_result",
          "data": {
            "text/plain": [
              "[0, 'one', 2, 'three', 4, 'five', 6, 'seven', 8, 'nine', 10]"
            ]
          },
          "metadata": {},
          "execution_count": 72
        }
      ]
    },
    {
      "cell_type": "code",
      "metadata": {
        "id": "4tDS36jCo1Nr",
        "colab": {
          "base_uri": "https://localhost:8080/"
        },
        "outputId": "08b32c78-94da-482b-cbdb-12037503bd05"
      },
      "source": [
        "L[:9:3]  # Start at zero, go up to (but not including) 9, by steps of 3."
      ],
      "execution_count": null,
      "outputs": [
        {
          "output_type": "execute_result",
          "data": {
            "text/plain": [
              "[0, 'three', 6]"
            ]
          },
          "metadata": {},
          "execution_count": 73
        }
      ]
    },
    {
      "cell_type": "code",
      "metadata": {
        "id": "MFr4nObSo1Nr",
        "colab": {
          "base_uri": "https://localhost:8080/"
        },
        "outputId": "2cf61bd8-afdc-4ebe-c27a-4f424388b2d9"
      },
      "source": [
        "L[2: :3] # Start at two, go up through the end of the list, by steps of 3."
      ],
      "execution_count": null,
      "outputs": [
        {
          "output_type": "execute_result",
          "data": {
            "text/plain": [
              "[2, 'five', 8]"
            ]
          },
          "metadata": {},
          "execution_count": 74
        }
      ]
    },
    {
      "cell_type": "code",
      "metadata": {
        "id": "X-EpKfF4o1Nr",
        "colab": {
          "base_uri": "https://localhost:8080/"
        },
        "outputId": "630d81b2-f1e3-4135-95e4-105492505e95"
      },
      "source": [
        "L[::3]  # Start at zero, go up through the end of the list, by steps of 3."
      ],
      "execution_count": null,
      "outputs": [
        {
          "output_type": "execute_result",
          "data": {
            "text/plain": [
              "[0, 'three', 6, 'nine']"
            ]
          },
          "metadata": {},
          "execution_count": 75
        }
      ]
    },
    {
      "cell_type": "markdown",
      "metadata": {
        "id": "2dTiwVYho1Nr"
      },
      "source": [
        "### Changing list slices"
      ]
    },
    {
      "cell_type": "markdown",
      "metadata": {
        "id": "4y5zku1Mo1Nr"
      },
      "source": [
        "Not only can we extract and study terms or slices of a list, we can change them by assignment.  The simplest case would be changing a single term of a list."
      ]
    },
    {
      "cell_type": "code",
      "metadata": {
        "id": "OfPbYfsPo1Nr",
        "colab": {
          "base_uri": "https://localhost:8080/"
        },
        "outputId": "c0620cf1-90d9-40bc-ab48-9af3cbf5b381"
      },
      "source": [
        "print(L) # Start with the list L."
      ],
      "execution_count": null,
      "outputs": [
        {
          "output_type": "stream",
          "name": "stdout",
          "text": [
            "[0, 'one', 2, 'three', 4, 'five', 6, 'seven', 8, 'nine', 10]\n"
          ]
        }
      ]
    },
    {
      "cell_type": "code",
      "metadata": {
        "id": "UIvNYPDDo1Nr"
      },
      "source": [
        "L[5] = 'Bacon!'"
      ],
      "execution_count": null,
      "outputs": []
    },
    {
      "cell_type": "code",
      "metadata": {
        "id": "RLd45i_No1Nr",
        "colab": {
          "base_uri": "https://localhost:8080/"
        },
        "outputId": "53400455-7bb9-456f-d8df-9908e85b56e1"
      },
      "source": [
        "print(L)  # What do you think L is now?"
      ],
      "execution_count": null,
      "outputs": [
        {
          "output_type": "stream",
          "name": "stdout",
          "text": [
            "[0, 'one', 2, 'three', 4, 'Bacon!', 6, 'seven', 8, 'nine', 10]\n"
          ]
        }
      ]
    },
    {
      "cell_type": "code",
      "metadata": {
        "id": "B6G0Uga9o1Nr",
        "colab": {
          "base_uri": "https://localhost:8080/"
        },
        "outputId": "150edefc-8f8b-4869-90bc-fb1671e943f8"
      },
      "source": [
        "print(L[2::3]) # What do you think this will do?"
      ],
      "execution_count": null,
      "outputs": [
        {
          "output_type": "stream",
          "name": "stdout",
          "text": [
            "[2, 'Bacon!', 8]\n"
          ]
        }
      ]
    },
    {
      "cell_type": "markdown",
      "metadata": {
        "id": "uGennJ2qo1Nr"
      },
      "source": [
        "We can change an entire slice of a list with a single assignment.  Let's change the first two terms of `L` in one line."
      ]
    },
    {
      "cell_type": "code",
      "metadata": {
        "id": "y2qRmtGpo1Nr"
      },
      "source": [
        "L[:2] = ['Pancakes', 'Ham']  # What was L[:2] before?"
      ],
      "execution_count": null,
      "outputs": []
    },
    {
      "cell_type": "code",
      "metadata": {
        "id": "ovOM7CW5o1Ns",
        "colab": {
          "base_uri": "https://localhost:8080/"
        },
        "outputId": "ebbbbd0f-2c51-4040-ee51-0f0d8c0c178f"
      },
      "source": [
        "print(L) # Oh... what have we done!"
      ],
      "execution_count": null,
      "outputs": [
        {
          "output_type": "stream",
          "name": "stdout",
          "text": [
            "['Pancakes', 'Ham', 2, 'three', 4, 'Bacon!', 6, 'seven', 8, 'nine', 10]\n"
          ]
        }
      ]
    },
    {
      "cell_type": "code",
      "metadata": {
        "id": "xaVOdSGdo1Ns",
        "colab": {
          "base_uri": "https://localhost:8080/",
          "height": 35
        },
        "outputId": "7f54be0c-187a-4abb-cf9a-f2e8fc143845"
      },
      "source": [
        "L[0]"
      ],
      "execution_count": null,
      "outputs": [
        {
          "output_type": "execute_result",
          "data": {
            "text/plain": [
              "'Pancakes'"
            ],
            "application/vnd.google.colaboratory.intrinsic+json": {
              "type": "string"
            }
          },
          "metadata": {},
          "execution_count": 82
        }
      ]
    },
    {
      "cell_type": "code",
      "metadata": {
        "id": "7VzDxYkvo1Ns",
        "colab": {
          "base_uri": "https://localhost:8080/",
          "height": 35
        },
        "outputId": "e3a231b3-5c02-4296-d3d3-836b4b989527"
      },
      "source": [
        "L[1]"
      ],
      "execution_count": null,
      "outputs": [
        {
          "output_type": "execute_result",
          "data": {
            "text/plain": [
              "'Ham'"
            ],
            "application/vnd.google.colaboratory.intrinsic+json": {
              "type": "string"
            }
          },
          "metadata": {},
          "execution_count": 83
        }
      ]
    },
    {
      "cell_type": "code",
      "metadata": {
        "id": "XEExh5vko1Ns",
        "colab": {
          "base_uri": "https://localhost:8080/"
        },
        "outputId": "9447a543-7745-40b7-eea8-5ed38c1b90e9"
      },
      "source": [
        "L[2]"
      ],
      "execution_count": null,
      "outputs": [
        {
          "output_type": "execute_result",
          "data": {
            "text/plain": [
              "2"
            ]
          },
          "metadata": {},
          "execution_count": 84
        }
      ]
    },
    {
      "cell_type": "markdown",
      "metadata": {
        "id": "G5jugoLbo1Ns"
      },
      "source": [
        "We can change a slice of a list with a single assignment, even when that slice does not consist of consecutive terms.  Try to predict what the following commands will do."
      ]
    },
    {
      "cell_type": "code",
      "metadata": {
        "id": "U9HQud-4o1Ns",
        "colab": {
          "base_uri": "https://localhost:8080/"
        },
        "outputId": "7ee84567-99a0-412b-e596-a4ff3ec4619f"
      },
      "source": [
        "print(L)  # Let's see what the list looks like before."
      ],
      "execution_count": null,
      "outputs": [
        {
          "output_type": "stream",
          "name": "stdout",
          "text": [
            "['Pancakes', 'Ham', 2, 'three', 4, 'Bacon!', 6, 'seven', 8, 'nine', 10]\n"
          ]
        }
      ]
    },
    {
      "cell_type": "code",
      "metadata": {
        "id": "WaeNsMU8o1Ns"
      },
      "source": [
        "L[::2] = ['A','B','C','D','E','F']  # What was L[::2] before this assignment? "
      ],
      "execution_count": null,
      "outputs": []
    },
    {
      "cell_type": "code",
      "metadata": {
        "id": "e4DFQ2ZBo1Ns",
        "colab": {
          "base_uri": "https://localhost:8080/"
        },
        "outputId": "d98559df-20eb-4e94-bcac-daa934d86e97"
      },
      "source": [
        "print(L)  # What do you predict?"
      ],
      "execution_count": null,
      "outputs": [
        {
          "output_type": "stream",
          "name": "stdout",
          "text": [
            "['A', 'Ham', 'B', 'three', 'C', 'Bacon!', 'D', 'seven', 'E', 'nine', 'F']\n"
          ]
        }
      ]
    },
    {
      "cell_type": "markdown",
      "metadata": {
        "id": "g7PBhl-1o1Ns"
      },
      "source": [
        "## List methods"
      ]
    },
    {
      "cell_type": "markdown",
      "metadata": {
        "id": "E4_oZBZYo1Ns"
      },
      "source": [
        "A method is a function that is attached to an object.  We have already used one method:  the `format` method that is attached to all strings.  You might have seen the `replace` method for strings too.  Note that single-quotes `'Hello'` or double-quotes `\"Hello\"` can be used for strings."
      ]
    },
    {
      "cell_type": "code",
      "metadata": {
        "id": "A9ZJsXNFo1Ns",
        "colab": {
          "base_uri": "https://localhost:8080/",
          "height": 35
        },
        "outputId": "cd6fb591-21b3-4a78-c84f-4e7701938acc"
      },
      "source": [
        "\"Hello {}!\".format('programming student')"
      ],
      "execution_count": null,
      "outputs": [
        {
          "output_type": "execute_result",
          "data": {
            "text/plain": [
              "'Hello programming student!'"
            ],
            "application/vnd.google.colaboratory.intrinsic+json": {
              "type": "string"
            }
          },
          "metadata": {},
          "execution_count": 88
        }
      ]
    },
    {
      "cell_type": "code",
      "metadata": {
        "id": "rWpWVH7eo1Nt",
        "colab": {
          "base_uri": "https://localhost:8080/",
          "height": 35
        },
        "outputId": "a1335453-83e0-4dc8-9555-e5907963783f"
      },
      "source": [
        "\"Programming is fun!\".replace('fun','lit')"
      ],
      "execution_count": null,
      "outputs": [
        {
          "output_type": "execute_result",
          "data": {
            "text/plain": [
              "'Programming is lit!'"
            ],
            "application/vnd.google.colaboratory.intrinsic+json": {
              "type": "string"
            }
          },
          "metadata": {},
          "execution_count": 89
        }
      ]
    },
    {
      "cell_type": "markdown",
      "metadata": {
        "id": "o_HBkyp_o1Nt"
      },
      "source": [
        "List methods are functions attached to lists.  Some useful methods include `append` and `sort`.  A fuller listing can be found at [the official documentation](https://docs.python.org/3/tutorial/datastructures.html)."
      ]
    },
    {
      "cell_type": "code",
      "metadata": {
        "id": "_KkgeG-yo1Nt",
        "colab": {
          "base_uri": "https://localhost:8080/"
        },
        "outputId": "e8119df6-29dc-43d7-c118-072ee8e1feb6"
      },
      "source": [
        "L = [1,2,3]\n",
        "L.append(4)\n",
        "print(L)"
      ],
      "execution_count": null,
      "outputs": [
        {
          "output_type": "stream",
          "name": "stdout",
          "text": [
            "[1, 2, 3, 4]\n"
          ]
        }
      ]
    },
    {
      "cell_type": "markdown",
      "metadata": {
        "id": "VjkSU8Eyo1Nt"
      },
      "source": [
        "The `append` method can be used to add new items to the end of a list.  But be careful if you want to add multiple items!"
      ]
    },
    {
      "cell_type": "code",
      "metadata": {
        "id": "aS1Nuu84o1Nt",
        "colab": {
          "base_uri": "https://localhost:8080/"
        },
        "outputId": "03f0f983-57fc-4abf-acaa-d183fb06ff51"
      },
      "source": [
        "L.append([5,6])\n",
        "print(L)"
      ],
      "execution_count": null,
      "outputs": [
        {
          "output_type": "stream",
          "name": "stdout",
          "text": [
            "[1, 2, 3, 4, [5, 6]]\n"
          ]
        }
      ]
    },
    {
      "cell_type": "markdown",
      "metadata": {
        "id": "THb1IcA6o1Nt"
      },
      "source": [
        "Behind the scenes, methods are functions which have a special input parameter called `self`.  So when you use a command like `L.append(4)`, you are effectively running `append(L, 4)`.  The `self` parameter is the object the method is attached to.\n",
        "\n",
        "Like all functions, methods have outputs too.  But what can be confusing is that methods can *modify* `self` and can sometimes *return* `None`.  "
      ]
    },
    {
      "cell_type": "code",
      "metadata": {
        "id": "TdOwNbHvo1Nt",
        "colab": {
          "base_uri": "https://localhost:8080/"
        },
        "outputId": "e51693b2-61c8-4e38-e35c-73eff453acb2"
      },
      "source": [
        "print([1,2,3].append(4))\n",
        "print(\"123\".replace(\"3\",\"4\"))"
      ],
      "execution_count": null,
      "outputs": [
        {
          "output_type": "stream",
          "name": "stdout",
          "text": [
            "None\n",
            "124\n"
          ]
        }
      ]
    },
    {
      "cell_type": "markdown",
      "metadata": {
        "id": "CNutNo0ro1Nt"
      },
      "source": [
        "This is very confusing at first!  The list `append` method *does* change `self` by appending something to `self`.  But as a function, it returns `None`.  \n",
        "\n",
        "On the other hand, the string `replace` method *does not* change `self` and instead *returns* the modified string.\n",
        "\n",
        "This will make more sense after we study *mutable* and *immutable* types.  Lists are mutable (and thus are often changed by their methods).  Strings are immutable, and so changes are effected by producing new strings.  Another example of a string method is `sort()`.  The only parameter of `sort` is `self`, and so nothing needs to go between the paraentheses."
      ]
    },
    {
      "cell_type": "code",
      "metadata": {
        "id": "iOJkQ3cIo1Nt",
        "colab": {
          "base_uri": "https://localhost:8080/"
        },
        "outputId": "9764ea40-0db8-4a41-f1c6-0fc99438cda5"
      },
      "source": [
        "L = [4,2,1]  # Make a list.\n",
        "L.sort()  # Sort the list.  This *changes* L and returns None.\n",
        "print(L)  # Let's see what L is now."
      ],
      "execution_count": null,
      "outputs": [
        {
          "output_type": "stream",
          "name": "stdout",
          "text": [
            "[1, 2, 4]\n"
          ]
        }
      ]
    },
    {
      "cell_type": "code",
      "metadata": {
        "id": "ZDaPzUUjo1Nt",
        "colab": {
          "base_uri": "https://localhost:8080/"
        },
        "outputId": "737aae9c-1f37-4b12-e6a4-6a92f7e72cda"
      },
      "source": [
        "L = ['Ukelele', 'Apple', 'Dog', 'Cat' ]\n",
        "L.sort()\n",
        "print(L)"
      ],
      "execution_count": null,
      "outputs": [
        {
          "output_type": "stream",
          "name": "stdout",
          "text": [
            "['Apple', 'Cat', 'Dog', 'Ukelele']\n"
          ]
        }
      ]
    },
    {
      "cell_type": "markdown",
      "metadata": {
        "id": "2ibPAiCCo1Nu"
      },
      "source": [
        "Sorting numbers is possible, because the Python operator `<` is defined for numbers.  Sorting strings is possible, because the Python operator `<` is interpreted alphabetically among strings.  If you mix types, Python might not know how to behave... you'll get a TypeError."
      ]
    },
    {
      "cell_type": "code",
      "metadata": {
        "id": "EmIGZqSQo1Nu",
        "colab": {
          "base_uri": "https://localhost:8080/",
          "height": 200
        },
        "outputId": "c591bbb0-b22f-4745-aa0d-e1b563db26e4"
      },
      "source": [
        "L = [1,'Apple', 3.14]\n",
        "L.sort()\n",
        "print(L)"
      ],
      "execution_count": null,
      "outputs": [
        {
          "output_type": "error",
          "ename": "TypeError",
          "evalue": "ignored",
          "traceback": [
            "\u001b[0;31m---------------------------------------------------------------------------\u001b[0m",
            "\u001b[0;31mTypeError\u001b[0m                                 Traceback (most recent call last)",
            "\u001b[0;32m<ipython-input-96-e3d2589f72dc>\u001b[0m in \u001b[0;36m<module>\u001b[0;34m\u001b[0m\n\u001b[1;32m      1\u001b[0m \u001b[0mL\u001b[0m \u001b[0;34m=\u001b[0m \u001b[0;34m[\u001b[0m\u001b[0;36m1\u001b[0m\u001b[0;34m,\u001b[0m\u001b[0;34m'Apple'\u001b[0m\u001b[0;34m,\u001b[0m \u001b[0;36m3.14\u001b[0m\u001b[0;34m]\u001b[0m\u001b[0;34m\u001b[0m\u001b[0;34m\u001b[0m\u001b[0m\n\u001b[0;32m----> 2\u001b[0;31m \u001b[0mL\u001b[0m\u001b[0;34m.\u001b[0m\u001b[0msort\u001b[0m\u001b[0;34m(\u001b[0m\u001b[0;34m)\u001b[0m\u001b[0;34m\u001b[0m\u001b[0;34m\u001b[0m\u001b[0m\n\u001b[0m\u001b[1;32m      3\u001b[0m \u001b[0mprint\u001b[0m\u001b[0;34m(\u001b[0m\u001b[0mL\u001b[0m\u001b[0;34m)\u001b[0m\u001b[0;34m\u001b[0m\u001b[0;34m\u001b[0m\u001b[0m\n",
            "\u001b[0;31mTypeError\u001b[0m: '<' not supported between instances of 'str' and 'int'"
          ]
        }
      ]
    },
    {
      "cell_type": "markdown",
      "metadata": {
        "id": "RMN4XjXHo1Nu"
      },
      "source": [
        "### Exercises\n",
        "\n",
        "1.  Create a list L with L = [1,2,3,...,100] (all the numbers from 1 to 100).  What is L[50]?\n",
        "\n",
        "2.  Take the same list L, and extract a slice of the form [5,10,15,...,95] with a command of the form L[a:b:c].\n",
        "\n",
        "3.  Take the same list L, and change all the even numbers to zeros, so that L looks like [1,0,3,0,5,0,...,99,0].  Hint:  You might wish to use the list [0]*50.\n",
        "\n",
        "4.  Try the command `L[-1::-1]` on a list.  What does it do?  Can you guess before executing it?  Can you understand why?  In fact, strings are indexed like lists.  Try setting `L = 'Hello'` and the previous command.\n",
        "\n",
        "5.  Create the list [1,100,3,98,5,96,...,99,2], where the odd terms are in order and the even terms are in reverse order.  There are multiple methods!\n",
        "\n",
        "6.  Use the append method with a loop to create a list of perfect squares, [0,1,4,9,16,25,...,10000].\n",
        "\n",
        "7.  Create a list of 52 \"cards\" to resemble a standard card deck.  The suits can be denoted C,S,D,H for clubs, spades, diamonds, and hearts.  The numbers can be denoted 1-13 (with Ace = 1, Jack = 11, Queen = 12, King = 13).  So \"9H\" would be the 9 of hearts, and 12S the queen of spades.  Your list L should contain every card.  \n",
        "\n",
        "8.  Challenge:  write a function which performs a \"perfect riffle shuffle\" on a list of cards.  This shuffle should have the effect of dividing the deck into two equal pieces, and then precisely interlacing the two pieces to form a new list.  E.g., an input list of `[1,2,3,4,5,6]` should be broken into `[1,2,3]` and `[4,5,6]` and then interlaced as `[1,4,2,5,3,6]`."
      ]
    },
    {
      "cell_type": "code",
      "metadata": {
        "id": "zeKjo8JPUjjY",
        "colab": {
          "base_uri": "https://localhost:8080/"
        },
        "outputId": "bc64a517-4d41-456b-a1fe-5193a36b3f80"
      },
      "source": [
        "#1\n",
        "l=[]\n",
        "count=0\n",
        "while count<100:\n",
        "  count+=1\n",
        "  l.append(count)\n",
        "l[50]\n",
        "\n",
        "\n",
        "\n",
        "  "
      ],
      "execution_count": 122,
      "outputs": [
        {
          "output_type": "execute_result",
          "data": {
            "text/plain": [
              "51"
            ]
          },
          "metadata": {},
          "execution_count": 122
        }
      ]
    },
    {
      "cell_type": "code",
      "source": [
        "#2\n",
        "l[4:95:5]\n"
      ],
      "metadata": {
        "colab": {
          "base_uri": "https://localhost:8080/"
        },
        "id": "kH5YTswjcYXG",
        "outputId": "2bcbf36d-d72b-4e15-9af1-a077643f0adb"
      },
      "execution_count": 123,
      "outputs": [
        {
          "output_type": "execute_result",
          "data": {
            "text/plain": [
              "[5, 10, 15, 20, 25, 30, 35, 40, 45, 50, 55, 60, 65, 70, 75, 80, 85, 90, 95]"
            ]
          },
          "metadata": {},
          "execution_count": 123
        }
      ]
    },
    {
      "cell_type": "code",
      "source": [
        "#3\n",
        "List3=[]\n",
        "Listop=[range(100)]\n",
        "i=1\n",
        "while i<=100:\n",
        "  List3.append(i)\n",
        "  List3.append(0)\n",
        "  i=i+2\n",
        "List3"
      ],
      "metadata": {
        "colab": {
          "base_uri": "https://localhost:8080/"
        },
        "id": "nGQiTO_bu-3C",
        "outputId": "b3be712d-7d60-444e-e7ff-2fbcae592736"
      },
      "execution_count": 124,
      "outputs": [
        {
          "output_type": "execute_result",
          "data": {
            "text/plain": [
              "[1,\n",
              " 0,\n",
              " 3,\n",
              " 0,\n",
              " 5,\n",
              " 0,\n",
              " 7,\n",
              " 0,\n",
              " 9,\n",
              " 0,\n",
              " 11,\n",
              " 0,\n",
              " 13,\n",
              " 0,\n",
              " 15,\n",
              " 0,\n",
              " 17,\n",
              " 0,\n",
              " 19,\n",
              " 0,\n",
              " 21,\n",
              " 0,\n",
              " 23,\n",
              " 0,\n",
              " 25,\n",
              " 0,\n",
              " 27,\n",
              " 0,\n",
              " 29,\n",
              " 0,\n",
              " 31,\n",
              " 0,\n",
              " 33,\n",
              " 0,\n",
              " 35,\n",
              " 0,\n",
              " 37,\n",
              " 0,\n",
              " 39,\n",
              " 0,\n",
              " 41,\n",
              " 0,\n",
              " 43,\n",
              " 0,\n",
              " 45,\n",
              " 0,\n",
              " 47,\n",
              " 0,\n",
              " 49,\n",
              " 0,\n",
              " 51,\n",
              " 0,\n",
              " 53,\n",
              " 0,\n",
              " 55,\n",
              " 0,\n",
              " 57,\n",
              " 0,\n",
              " 59,\n",
              " 0,\n",
              " 61,\n",
              " 0,\n",
              " 63,\n",
              " 0,\n",
              " 65,\n",
              " 0,\n",
              " 67,\n",
              " 0,\n",
              " 69,\n",
              " 0,\n",
              " 71,\n",
              " 0,\n",
              " 73,\n",
              " 0,\n",
              " 75,\n",
              " 0,\n",
              " 77,\n",
              " 0,\n",
              " 79,\n",
              " 0,\n",
              " 81,\n",
              " 0,\n",
              " 83,\n",
              " 0,\n",
              " 85,\n",
              " 0,\n",
              " 87,\n",
              " 0,\n",
              " 89,\n",
              " 0,\n",
              " 91,\n",
              " 0,\n",
              " 93,\n",
              " 0,\n",
              " 95,\n",
              " 0,\n",
              " 97,\n",
              " 0,\n",
              " 99,\n",
              " 0]"
            ]
          },
          "metadata": {},
          "execution_count": 124
        }
      ]
    },
    {
      "cell_type": "code",
      "source": [
        "#4\n",
        "#l[-1::-1]\n",
        "Listh=\"hello\"\n",
        "Listh[-1::-1]"
      ],
      "metadata": {
        "colab": {
          "base_uri": "https://localhost:8080/",
          "height": 35
        },
        "id": "oZvpA_hvi39V",
        "outputId": "5a674441-bf34-400d-e6f7-ce6a13bf8875"
      },
      "execution_count": 128,
      "outputs": [
        {
          "output_type": "execute_result",
          "data": {
            "text/plain": [
              "'olleh'"
            ],
            "application/vnd.google.colaboratory.intrinsic+json": {
              "type": "string"
            }
          },
          "metadata": {},
          "execution_count": 128
        }
      ]
    },
    {
      "cell_type": "code",
      "source": [
        "#5\n",
        "List5=[]\n",
        "Listop=[range(100)]\n",
        "i=1\n",
        "while i<=100:\n",
        "  List5.append(i)\n",
        "  List5.append(101-i)\n",
        "  i=i+2\n",
        "List5 "
      ],
      "metadata": {
        "colab": {
          "base_uri": "https://localhost:8080/"
        },
        "id": "K-auVxv1jb6s",
        "outputId": "c927d3d8-8b3c-4cdb-b130-cb6dabd1ab7e"
      },
      "execution_count": 130,
      "outputs": [
        {
          "output_type": "execute_result",
          "data": {
            "text/plain": [
              "[1,\n",
              " 100,\n",
              " 3,\n",
              " 98,\n",
              " 5,\n",
              " 96,\n",
              " 7,\n",
              " 94,\n",
              " 9,\n",
              " 92,\n",
              " 11,\n",
              " 90,\n",
              " 13,\n",
              " 88,\n",
              " 15,\n",
              " 86,\n",
              " 17,\n",
              " 84,\n",
              " 19,\n",
              " 82,\n",
              " 21,\n",
              " 80,\n",
              " 23,\n",
              " 78,\n",
              " 25,\n",
              " 76,\n",
              " 27,\n",
              " 74,\n",
              " 29,\n",
              " 72,\n",
              " 31,\n",
              " 70,\n",
              " 33,\n",
              " 68,\n",
              " 35,\n",
              " 66,\n",
              " 37,\n",
              " 64,\n",
              " 39,\n",
              " 62,\n",
              " 41,\n",
              " 60,\n",
              " 43,\n",
              " 58,\n",
              " 45,\n",
              " 56,\n",
              " 47,\n",
              " 54,\n",
              " 49,\n",
              " 52,\n",
              " 51,\n",
              " 50,\n",
              " 53,\n",
              " 48,\n",
              " 55,\n",
              " 46,\n",
              " 57,\n",
              " 44,\n",
              " 59,\n",
              " 42,\n",
              " 61,\n",
              " 40,\n",
              " 63,\n",
              " 38,\n",
              " 65,\n",
              " 36,\n",
              " 67,\n",
              " 34,\n",
              " 69,\n",
              " 32,\n",
              " 71,\n",
              " 30,\n",
              " 73,\n",
              " 28,\n",
              " 75,\n",
              " 26,\n",
              " 77,\n",
              " 24,\n",
              " 79,\n",
              " 22,\n",
              " 81,\n",
              " 20,\n",
              " 83,\n",
              " 18,\n",
              " 85,\n",
              " 16,\n",
              " 87,\n",
              " 14,\n",
              " 89,\n",
              " 12,\n",
              " 91,\n",
              " 10,\n",
              " 93,\n",
              " 8,\n",
              " 95,\n",
              " 6,\n",
              " 97,\n",
              " 4,\n",
              " 99,\n",
              " 2]"
            ]
          },
          "metadata": {},
          "execution_count": 130
        }
      ]
    },
    {
      "cell_type": "code",
      "source": [
        "#6\n",
        "def six(n):\n",
        "  K=[]\n",
        "  while n<100:\n",
        "    n+=1\n",
        "    K.append(n*n)\n",
        "  return K\n",
        "six(-1)\n",
        "    \n"
      ],
      "metadata": {
        "colab": {
          "base_uri": "https://localhost:8080/"
        },
        "id": "r5ePpm1cdowQ",
        "outputId": "96d249e9-c1a5-496b-c037-5f9d53c6dab5"
      },
      "execution_count": 125,
      "outputs": [
        {
          "output_type": "execute_result",
          "data": {
            "text/plain": [
              "[0,\n",
              " 1,\n",
              " 4,\n",
              " 9,\n",
              " 16,\n",
              " 25,\n",
              " 36,\n",
              " 49,\n",
              " 64,\n",
              " 81,\n",
              " 100,\n",
              " 121,\n",
              " 144,\n",
              " 169,\n",
              " 196,\n",
              " 225,\n",
              " 256,\n",
              " 289,\n",
              " 324,\n",
              " 361,\n",
              " 400,\n",
              " 441,\n",
              " 484,\n",
              " 529,\n",
              " 576,\n",
              " 625,\n",
              " 676,\n",
              " 729,\n",
              " 784,\n",
              " 841,\n",
              " 900,\n",
              " 961,\n",
              " 1024,\n",
              " 1089,\n",
              " 1156,\n",
              " 1225,\n",
              " 1296,\n",
              " 1369,\n",
              " 1444,\n",
              " 1521,\n",
              " 1600,\n",
              " 1681,\n",
              " 1764,\n",
              " 1849,\n",
              " 1936,\n",
              " 2025,\n",
              " 2116,\n",
              " 2209,\n",
              " 2304,\n",
              " 2401,\n",
              " 2500,\n",
              " 2601,\n",
              " 2704,\n",
              " 2809,\n",
              " 2916,\n",
              " 3025,\n",
              " 3136,\n",
              " 3249,\n",
              " 3364,\n",
              " 3481,\n",
              " 3600,\n",
              " 3721,\n",
              " 3844,\n",
              " 3969,\n",
              " 4096,\n",
              " 4225,\n",
              " 4356,\n",
              " 4489,\n",
              " 4624,\n",
              " 4761,\n",
              " 4900,\n",
              " 5041,\n",
              " 5184,\n",
              " 5329,\n",
              " 5476,\n",
              " 5625,\n",
              " 5776,\n",
              " 5929,\n",
              " 6084,\n",
              " 6241,\n",
              " 6400,\n",
              " 6561,\n",
              " 6724,\n",
              " 6889,\n",
              " 7056,\n",
              " 7225,\n",
              " 7396,\n",
              " 7569,\n",
              " 7744,\n",
              " 7921,\n",
              " 8100,\n",
              " 8281,\n",
              " 8464,\n",
              " 8649,\n",
              " 8836,\n",
              " 9025,\n",
              " 9216,\n",
              " 9409,\n",
              " 9604,\n",
              " 9801,\n",
              " 10000]"
            ]
          },
          "metadata": {},
          "execution_count": 125
        }
      ]
    },
    {
      "cell_type": "code",
      "source": [
        "#7\n",
        "def deck7():\n",
        "  H=0\n",
        "  S=0\n",
        "  C=0\n",
        "  D=0\n",
        "\n",
        "  D_Hearts=[]\n",
        "  D_Spades=[]\n",
        "  D_Clubs=[]\n",
        "  D_Diamonds=[]\n",
        "  while H<13:\n",
        "    H+=1\n",
        "    strin=str(H)\n",
        "    k=\"H0\".replace(\"0\",strin)\n",
        "    D_Hearts.append(k)\n",
        "  while D<13:\n",
        "    D+=1\n",
        "    strin=str(D)\n",
        "    k=\"D0\".replace(\"0\",strin)\n",
        "    D_Diamonds.append(k)\n",
        "  while C<13:\n",
        "    C+=1\n",
        "    strin=str(C)\n",
        "    k=\"C0\".replace(\"0\",strin)\n",
        "    D_Clubs.append(k)\n",
        "  while S<13:\n",
        "    S+=1\n",
        "    strin=str(S)\n",
        "    k=\"S0\".replace(\"0\",strin)\n",
        "    D_Spades.append(k)\n",
        "  Deck=D_Hearts+D_Spades+D_Clubs+D_Diamonds\n",
        "\n",
        "  return Deck\n",
        "deck7()\n",
        "\n"
      ],
      "metadata": {
        "colab": {
          "base_uri": "https://localhost:8080/"
        },
        "id": "c6cmwhAKhqnR",
        "outputId": "0d469a13-c3fb-4c29-cb68-099df2451eb7"
      },
      "execution_count": null,
      "outputs": [
        {
          "output_type": "execute_result",
          "data": {
            "text/plain": [
              "['H1',\n",
              " 'H2',\n",
              " 'H3',\n",
              " 'H4',\n",
              " 'H5',\n",
              " 'H6',\n",
              " 'H7',\n",
              " 'H8',\n",
              " 'H9',\n",
              " 'H10',\n",
              " 'H11',\n",
              " 'H12',\n",
              " 'H13',\n",
              " 'S1',\n",
              " 'S2',\n",
              " 'S3',\n",
              " 'S4',\n",
              " 'S5',\n",
              " 'S6',\n",
              " 'S7',\n",
              " 'S8',\n",
              " 'S9',\n",
              " 'S10',\n",
              " 'S11',\n",
              " 'S12',\n",
              " 'S13',\n",
              " 'C1',\n",
              " 'C2',\n",
              " 'C3',\n",
              " 'C4',\n",
              " 'C5',\n",
              " 'C6',\n",
              " 'C7',\n",
              " 'C8',\n",
              " 'C9',\n",
              " 'C10',\n",
              " 'C11',\n",
              " 'C12',\n",
              " 'C13',\n",
              " 'D1',\n",
              " 'D2',\n",
              " 'D3',\n",
              " 'D4',\n",
              " 'D5',\n",
              " 'D6',\n",
              " 'D7',\n",
              " 'D8',\n",
              " 'D9',\n",
              " 'D10',\n",
              " 'D11',\n",
              " 'D12',\n",
              " 'D13']"
            ]
          },
          "metadata": {},
          "execution_count": 98
        }
      ]
    },
    {
      "cell_type": "code",
      "source": [
        "#8\n",
        "def deck8():\n",
        "  H=0\n",
        "  S=0\n",
        "  C=0\n",
        "  D=0\n",
        "\n",
        "  D_Hearts=[]\n",
        "  D_Spades=[]\n",
        "  D_Clubs=[]\n",
        "  D_Diamonds=[]\n",
        "  while H<13:\n",
        "    H+=1\n",
        "    strin=str(H)\n",
        "    k=\"H0\".replace(\"0\",strin)\n",
        "    D_Hearts.append(k)\n",
        "  while D<13:\n",
        "    D+=1\n",
        "    strin=str(D)\n",
        "    k=\"D0\".replace(\"0\",strin)\n",
        "    D_Diamonds.append(k)\n",
        "  while C<13:\n",
        "    C+=1\n",
        "    strin=str(C)\n",
        "    k=\"C0\".replace(\"0\",strin)\n",
        "    D_Clubs.append(k)\n",
        "  while S<13:\n",
        "    S+=1\n",
        "    strin=str(S)\n",
        "    k=\"S0\".replace(\"0\",strin)\n",
        "    D_Spades.append(k)\n",
        "  Deck=D_Hearts+D_Spades+D_Clubs+D_Diamonds\n",
        "\n",
        "  middle=26\n",
        "  shuffle=[]\n",
        "  for i in range(middle):\n",
        "    shuffle.append(Deck[i])\n",
        "    shuffle.append(Deck[i+middle])\n",
        "  return shuffle\n",
        "deck8()"
      ],
      "metadata": {
        "colab": {
          "base_uri": "https://localhost:8080/"
        },
        "id": "bwQr7zDeor7i",
        "outputId": "f6375823-9a19-4637-bfe7-b5077a30629f"
      },
      "execution_count": null,
      "outputs": [
        {
          "output_type": "execute_result",
          "data": {
            "text/plain": [
              "['H1',\n",
              " 'C1',\n",
              " 'H2',\n",
              " 'C2',\n",
              " 'H3',\n",
              " 'C3',\n",
              " 'H4',\n",
              " 'C4',\n",
              " 'H5',\n",
              " 'C5',\n",
              " 'H6',\n",
              " 'C6',\n",
              " 'H7',\n",
              " 'C7',\n",
              " 'H8',\n",
              " 'C8',\n",
              " 'H9',\n",
              " 'C9',\n",
              " 'H10',\n",
              " 'C10',\n",
              " 'H11',\n",
              " 'C11',\n",
              " 'H12',\n",
              " 'C12',\n",
              " 'H13',\n",
              " 'C13',\n",
              " 'S1',\n",
              " 'D1',\n",
              " 'S2',\n",
              " 'D2',\n",
              " 'S3',\n",
              " 'D3',\n",
              " 'S4',\n",
              " 'D4',\n",
              " 'S5',\n",
              " 'D5',\n",
              " 'S6',\n",
              " 'D6',\n",
              " 'S7',\n",
              " 'D7',\n",
              " 'S8',\n",
              " 'D8',\n",
              " 'S9',\n",
              " 'D9',\n",
              " 'S10',\n",
              " 'D10',\n",
              " 'S11',\n",
              " 'D11',\n",
              " 'S12',\n",
              " 'D12',\n",
              " 'S13',\n",
              " 'D13']"
            ]
          },
          "metadata": {},
          "execution_count": 99
        }
      ]
    },
    {
      "cell_type": "code",
      "source": [],
      "metadata": {
        "id": "9-yn1bqBflSc"
      },
      "execution_count": null,
      "outputs": []
    },
    {
      "cell_type": "markdown",
      "metadata": {
        "id": "DIORkSZEo1Nu"
      },
      "source": [
        "## Sieve of Eratosthenes"
      ]
    },
    {
      "cell_type": "markdown",
      "metadata": {
        "id": "rTQgPGs2o1Nu"
      },
      "source": [
        "The **Sieve of Eratosthenes** (hereafter called \"the sieve\") is a very fast way of producing long lists of primes, without doing repeated primality checking.  The basic idea is to start with all of the natural numbers, and successively filter out, or [**sieve**](https://en.wikipedia.org/wiki/Sieve), the multiples of 2, then the multiples of 3, then the multiples of 5, etc., until only primes are left.  You can read more about the sieve, and experimental number theory, at [The Conversation](https://theconversation.com/why-prime-numbers-still-fascinate-mathematicians-2-300-years-later-92484)\n",
        "\n",
        "Using list slicing, we can carry out this sieving process efficiently.  And with a few more tricks we encounter here, we can carry out the Sieve **very** efficiently."
      ]
    },
    {
      "cell_type": "markdown",
      "metadata": {
        "id": "_jx0oxsuo1Nu"
      },
      "source": [
        "### The basic sieve\n",
        "\n",
        "The first approach we introduce is a bit naive, but is a good starting place.  We will begin with a list of numbers up to 100, and sieve out the appropriate multiples of 2,3,5,7."
      ]
    },
    {
      "cell_type": "code",
      "metadata": {
        "id": "xiF25G0Zo1Nu"
      },
      "source": [
        "primes = list(range(100)) # Let's start with the numbers 0...99."
      ],
      "execution_count": 12,
      "outputs": []
    },
    {
      "cell_type": "markdown",
      "metadata": {
        "id": "XIDLjxG4o1Nu"
      },
      "source": [
        "Now, to \"filter\", i.e., to say that a number is *not* prime, let's just change the number to the value `None`.  "
      ]
    },
    {
      "cell_type": "code",
      "metadata": {
        "id": "5VK6hIBEo1Nu",
        "colab": {
          "base_uri": "https://localhost:8080/"
        },
        "outputId": "db248ca7-8eae-4b9c-db7e-ed99e32a64b0"
      },
      "source": [
        "primes[0] = None # Zero is not prime.\n",
        "primes[1] = None # One is not prime.\n",
        "print(primes) # What have we done?"
      ],
      "execution_count": 13,
      "outputs": [
        {
          "output_type": "stream",
          "name": "stdout",
          "text": [
            "[None, None, 2, 3, 4, 5, 6, 7, 8, 9, 10, 11, 12, 13, 14, 15, 16, 17, 18, 19, 20, 21, 22, 23, 24, 25, 26, 27, 28, 29, 30, 31, 32, 33, 34, 35, 36, 37, 38, 39, 40, 41, 42, 43, 44, 45, 46, 47, 48, 49, 50, 51, 52, 53, 54, 55, 56, 57, 58, 59, 60, 61, 62, 63, 64, 65, 66, 67, 68, 69, 70, 71, 72, 73, 74, 75, 76, 77, 78, 79, 80, 81, 82, 83, 84, 85, 86, 87, 88, 89, 90, 91, 92, 93, 94, 95, 96, 97, 98, 99]\n"
          ]
        }
      ]
    },
    {
      "cell_type": "markdown",
      "metadata": {
        "id": "f60YBXEpo1Nv"
      },
      "source": [
        "Now let's filter out the multiples of 2, starting at 4.  This is the slice `primes[4::2]`"
      ]
    },
    {
      "cell_type": "code",
      "metadata": {
        "id": "WIBb5mQ3o1Nv",
        "colab": {
          "base_uri": "https://localhost:8080/"
        },
        "outputId": "c1d4dc85-5dc9-43f4-9740-42597e2fb557"
      },
      "source": [
        "primes[4::2] = [None] * len(primes[4::2])  # The right side is a list of Nones, of the necessary length.\n",
        "print(primes) # What have we done?"
      ],
      "execution_count": 14,
      "outputs": [
        {
          "output_type": "stream",
          "name": "stdout",
          "text": [
            "[None, None, 2, 3, None, 5, None, 7, None, 9, None, 11, None, 13, None, 15, None, 17, None, 19, None, 21, None, 23, None, 25, None, 27, None, 29, None, 31, None, 33, None, 35, None, 37, None, 39, None, 41, None, 43, None, 45, None, 47, None, 49, None, 51, None, 53, None, 55, None, 57, None, 59, None, 61, None, 63, None, 65, None, 67, None, 69, None, 71, None, 73, None, 75, None, 77, None, 79, None, 81, None, 83, None, 85, None, 87, None, 89, None, 91, None, 93, None, 95, None, 97, None, 99]\n"
          ]
        }
      ]
    },
    {
      "cell_type": "markdown",
      "metadata": {
        "id": "gD0IZ3ffo1Nv"
      },
      "source": [
        "Now we filter out the multiples of 3, starting at 9."
      ]
    },
    {
      "cell_type": "code",
      "metadata": {
        "id": "nRDiN5ZYo1Nv",
        "colab": {
          "base_uri": "https://localhost:8080/"
        },
        "outputId": "e7651f6c-4c6f-4f7a-fea9-94a08f83a001"
      },
      "source": [
        "primes[9::3] = [None] * len(primes[9::3])  # The right side is a list of Nones, of the necessary length.\n",
        "print(primes) # What have we done?"
      ],
      "execution_count": 15,
      "outputs": [
        {
          "output_type": "stream",
          "name": "stdout",
          "text": [
            "[None, None, 2, 3, None, 5, None, 7, None, None, None, 11, None, 13, None, None, None, 17, None, 19, None, None, None, 23, None, 25, None, None, None, 29, None, 31, None, None, None, 35, None, 37, None, None, None, 41, None, 43, None, None, None, 47, None, 49, None, None, None, 53, None, 55, None, None, None, 59, None, 61, None, None, None, 65, None, 67, None, None, None, 71, None, 73, None, None, None, 77, None, 79, None, None, None, 83, None, 85, None, None, None, 89, None, 91, None, None, None, 95, None, 97, None, None]\n"
          ]
        }
      ]
    },
    {
      "cell_type": "markdown",
      "metadata": {
        "id": "OkeNZU2Uo1Nv"
      },
      "source": [
        "Next the multiples of 5, starting at 25 (the first multiple of 5 greater than 5 that's left!)"
      ]
    },
    {
      "cell_type": "code",
      "metadata": {
        "id": "Aocpditlo1Nv",
        "colab": {
          "base_uri": "https://localhost:8080/"
        },
        "outputId": "a478dde9-ec6c-4f3a-cebe-caabeb42ae8f"
      },
      "source": [
        "primes[25::5] = [None] * len(primes[25::5])  # The right side is a list of Nones, of the necessary length.\n",
        "print(primes) # What have we done?"
      ],
      "execution_count": 16,
      "outputs": [
        {
          "output_type": "stream",
          "name": "stdout",
          "text": [
            "[None, None, 2, 3, None, 5, None, 7, None, None, None, 11, None, 13, None, None, None, 17, None, 19, None, None, None, 23, None, None, None, None, None, 29, None, 31, None, None, None, None, None, 37, None, None, None, 41, None, 43, None, None, None, 47, None, 49, None, None, None, 53, None, None, None, None, None, 59, None, 61, None, None, None, None, None, 67, None, None, None, 71, None, 73, None, None, None, 77, None, 79, None, None, None, 83, None, None, None, None, None, 89, None, 91, None, None, None, None, None, 97, None, None]\n"
          ]
        }
      ]
    },
    {
      "cell_type": "markdown",
      "metadata": {
        "id": "9DYckJ43o1Nv"
      },
      "source": [
        "Finally, the multiples of 7, starting at 49 (the first multiple of 7 greater than 7 that's left!)"
      ]
    },
    {
      "cell_type": "code",
      "metadata": {
        "id": "NMMhQYBqo1Nv",
        "colab": {
          "base_uri": "https://localhost:8080/"
        },
        "outputId": "144179d8-8239-43b3-c201-21f5f8f39c11"
      },
      "source": [
        "primes[49::7] = [None] * len(primes[49::7])  # The right side is a list of Nones, of the necessary length.\n",
        "print(primes) # What have we done?"
      ],
      "execution_count": 17,
      "outputs": [
        {
          "output_type": "stream",
          "name": "stdout",
          "text": [
            "[None, None, 2, 3, None, 5, None, 7, None, None, None, 11, None, 13, None, None, None, 17, None, 19, None, None, None, 23, None, None, None, None, None, 29, None, 31, None, None, None, None, None, 37, None, None, None, 41, None, 43, None, None, None, 47, None, None, None, None, None, 53, None, None, None, None, None, 59, None, 61, None, None, None, None, None, 67, None, None, None, 71, None, 73, None, None, None, None, None, 79, None, None, None, 83, None, None, None, None, None, 89, None, None, None, None, None, None, None, 97, None, None]\n"
          ]
        }
      ]
    },
    {
      "cell_type": "markdown",
      "metadata": {
        "id": "6Dulthjho1Nv"
      },
      "source": [
        "What's left?  A lot of `None`s and the prime numbers up to 100.  We have successfully sieved out all the nonprime numbers in the list, using just four sieving steps (and setting 0 and 1 to `None` manually).  \n",
        "\n",
        "But there's a lot of room for improvement, from beginning to end!\n",
        "\n",
        "1.  The format of the end result is not so nice.\n",
        "2.  We had to sieve each step manually.  It would be much better to have a function `prime_list(n)` which would output a list of primes up to `n` without so much supervision.\n",
        "3.  The memory usage will be large, if we need to store all the numbers up to a large `n` at the beginning.\n",
        "\n",
        "We solve these problems in the following way.\n",
        "\n",
        "1.  We will use a list of **booleans** rather than a list of numbers.  The ending list will have a `True` value at prime indices and a `False` value at composite indices.  This reduces the memory usage and increases the speed.  \n",
        "2.  A `which` function (explained soon) will make the desired list of primes after everything else is done.\n",
        "3.  We will proceed through the sieving steps algorithmically rather than entering each step manually.\n",
        "\n",
        "Here is a somewhat efficient implementation of the Sieve in Python."
      ]
    },
    {
      "cell_type": "code",
      "metadata": {
        "id": "HfOTwel_o1Nv"
      },
      "source": [
        "from math import sqrt\n",
        "def isprime_list(n):\n",
        "    ''' \n",
        "    Return a list of length n+1\n",
        "    with Trues at prime indices and Falses at composite indices.\n",
        "    '''\n",
        "    flags = [True] * (n+1)  # A list [True, True, True,...] to start.\n",
        "    flags[0] = False  # Zero is not prime.  So its flag is set to False.\n",
        "    flags[1] = False  # One is not prime.  So its flag is set to False.\n",
        "    p = 2  # The first prime is 2.  And we start sieving by multiples of 2.\n",
        "    \n",
        "    while p <= sqrt(n):  # We only need to sieve by p is p <= sqrt(n).\n",
        "        if flags[p]:  # We sieve the multiples of p if flags[p]=True.\n",
        "            flags[p*p::p] = [False] * len(flags[p*p::p]) # Sieves out multiples of p, starting at p*p.\n",
        "        p = p + 1 # Try the next value of p.\n",
        "        \n",
        "    return flags"
      ],
      "execution_count": 8,
      "outputs": []
    },
    {
      "cell_type": "code",
      "metadata": {
        "id": "eM2OGaymo1Nw",
        "colab": {
          "base_uri": "https://localhost:8080/"
        },
        "outputId": "6d8cfb24-6eed-4d6c-f4c5-3055a93adfe2"
      },
      "source": [
        "print(isprime_list(100))"
      ],
      "execution_count": 9,
      "outputs": [
        {
          "output_type": "stream",
          "name": "stdout",
          "text": [
            "[False, False, True, True, False, True, False, True, False, False, False, True, False, True, False, False, False, True, False, True, False, False, False, True, False, False, False, False, False, True, False, True, False, False, False, False, False, True, False, False, False, True, False, True, False, False, False, True, False, False, False, False, False, True, False, False, False, False, False, True, False, True, False, False, False, False, False, True, False, False, False, True, False, True, False, False, False, False, False, True, False, False, False, True, False, False, False, False, False, True, False, False, False, False, False, False, False, True, False, False, False]\n"
          ]
        }
      ]
    },
    {
      "cell_type": "markdown",
      "metadata": {
        "id": "73FT-HVIo1Nw"
      },
      "source": [
        "If you look carefully at the list of booleans, you will notice a `True` value at the 2nd index, the 3rd index, the 5th index, the 7th index, etc..  The indices where the values are `True` are precisely the **prime** indices.  Since booleans take the smallest amount of memory of any data type (one **bit** of memory per boolean), your computer can carry out the `isprime_list(n)` function even when `n` is very large.\n",
        "\n",
        "To be more precise, there are 8 bits in a **byte**.  There are 1024 bytes (about 1000) in a kilobyte.  There are 1024 kilobytes in a megabyte.  There are 1024 megabytes in a gigabyte.  Therefore, a gigabyte of memory is enough to store about 8 billion bits.  That's enough to store the result of `isprime_list(n)` when `n` is about 8 billion.  Not bad!  And your computer probably has 4 or 8 or 12 or 16 gigabytes of memory to use.\n",
        "\n"
      ]
    },
    {
      "cell_type": "markdown",
      "metadata": {
        "id": "TtTBE8U0o1Nw"
      },
      "source": [
        "To transform the list of booleans into a list of prime numbers, we create a function called `where`.  This function uses another Python technique called **list comprehension**.  We discuss this technique later in this lesson, so just use the `where` function as a tool for now, or [read about list comprehension](https://docs.python.org/2/tutorial/datastructures.html#list-comprehensions) if you're curious."
      ]
    },
    {
      "cell_type": "code",
      "metadata": {
        "id": "q_ZiUC2uo1Nw"
      },
      "source": [
        "def where(L):\n",
        "    '''\n",
        "    Take a list of booleans as input and\n",
        "    outputs the list of indices where True occurs.\n",
        "    '''\n",
        "    return [n for n in range(len(L)) if L[n]]\n",
        "    "
      ],
      "execution_count": 10,
      "outputs": []
    },
    {
      "cell_type": "markdown",
      "metadata": {
        "id": "_rkxdrhmo1Nw"
      },
      "source": [
        "Combined with the `isprime_list` function, we can produce long lists of primes."
      ]
    },
    {
      "cell_type": "code",
      "metadata": {
        "scrolled": true,
        "id": "MkA2LdBlo1Nw",
        "colab": {
          "base_uri": "https://localhost:8080/"
        },
        "outputId": "21ee892c-f5ef-4aaa-f924-4901338b0132"
      },
      "source": [
        "print(where(isprime_list(100)))"
      ],
      "execution_count": 11,
      "outputs": [
        {
          "output_type": "stream",
          "name": "stdout",
          "text": [
            "[2, 3, 5, 7, 11, 13, 17, 19, 23, 29, 31, 37, 41, 43, 47, 53, 59, 61, 67, 71, 73, 79, 83, 89, 97]\n"
          ]
        }
      ]
    },
    {
      "cell_type": "markdown",
      "metadata": {
        "id": "gy3KRYbAo1Nw"
      },
      "source": [
        "Let's push it a bit further.  How many primes are there between 1 and 1 million?  We can figure this out in three steps:\n",
        "\n",
        "1.  Create the isprime_list.\n",
        "2.  Use where to get the list of primes.\n",
        "3.  Find the length of the list of primes.\n",
        "\n",
        "But it's better to do it in two steps.\n",
        "\n",
        "1.  Create the isprime_list.\n",
        "2.  Sum the list!  (Note that `True` is 1, for the purpose of summation!)"
      ]
    },
    {
      "cell_type": "code",
      "metadata": {
        "id": "MpIGIxjro1Nw",
        "colab": {
          "base_uri": "https://localhost:8080/"
        },
        "outputId": "8306da7a-6b29-4647-e758-539dcb7b1f22"
      },
      "source": [
        "sum(isprime_list(1000000))  # The number of primes up to a million!"
      ],
      "execution_count": 22,
      "outputs": [
        {
          "output_type": "execute_result",
          "data": {
            "text/plain": [
              "78498"
            ]
          },
          "metadata": {},
          "execution_count": 22
        }
      ]
    },
    {
      "cell_type": "code",
      "metadata": {
        "id": "uQx3_5suo1Nw",
        "colab": {
          "base_uri": "https://localhost:8080/"
        },
        "outputId": "0ff691d0-47c7-4800-dd25-2493e5e60805"
      },
      "source": [
        "%timeit isprime_list(10**6)  # 1000 ms = 1 second."
      ],
      "execution_count": 23,
      "outputs": [
        {
          "output_type": "stream",
          "name": "stdout",
          "text": [
            "70.9 ms ± 2.7 ms per loop (mean ± std. dev. of 7 runs, 10 loops each)\n"
          ]
        }
      ]
    },
    {
      "cell_type": "code",
      "metadata": {
        "id": "Dy3dxyNCo1Nw",
        "colab": {
          "base_uri": "https://localhost:8080/"
        },
        "outputId": "9193094a-ebe2-41a1-8738-790fc0d2db28"
      },
      "source": [
        "%timeit sum(isprime_list(10**6))"
      ],
      "execution_count": 24,
      "outputs": [
        {
          "output_type": "stream",
          "name": "stdout",
          "text": [
            "106 ms ± 9.35 ms per loop (mean ± std. dev. of 7 runs, 10 loops each)\n"
          ]
        }
      ]
    },
    {
      "cell_type": "markdown",
      "metadata": {
        "id": "WiEYpMXUo1Nw"
      },
      "source": [
        "This isn't too bad!  It takes a fraction of a second to identify the primes up to a million, and a smaller fraction of a second to count them!  But we can do a little better.  \n",
        "\n",
        "The first improvement is to take care of the even numbers first.  If we count carefully, then the sequence 4,6,8,...,n (ending at n-1 if n is odd) has the floor of (n-2)/2 terms.  Thus the line `flags[4::2] = [False] * ((n-2)//2)` will set all the flags to False in the sequence 4,6,8,10,...  From there, we can begin sieving by *odd* primes starting with 3.\n",
        "\n",
        "The next improvement is that, since we've already sieved out all the even numbers (except 2), we don't have to sieve out again by *even multiples*.  So when sieving by multiples of 3, we don't have to sieve out 9,12,15,18,21,etc..  We can just sieve out 9,15,21,etc..  When `p` is an odd prime, this can be taken care of with the code `flags[p*p::2*p] = [False] * len(flags[p*p::2*p])`.  "
      ]
    },
    {
      "cell_type": "code",
      "metadata": {
        "id": "MBU0GJsSo1Nx"
      },
      "source": [
        "def isprime_list(n):\n",
        "    ''' \n",
        "    Return a list of length n+1\n",
        "    with Trues at prime indices and Falses at composite indices.\n",
        "    '''\n",
        "    flags = [True] * (n+1)  # A list [True, True, True,...] to start.\n",
        "    flags[0] = False  # Zero is not prime.  So its flag is set to False.\n",
        "    flags[1] = False  # One is not prime.  So its flag is set to False.\n",
        "    flags[4::2] = [False] * ((n-2)//2)\n",
        "    p = 3\n",
        "    while p <= sqrt(n):  # We only need to sieve by p is p <= sqrt(n).\n",
        "        if flags[p]:  # We sieve the multiples of p if flags[p]=True.\n",
        "            flags[p*p::2*p] = [False] * len(flags[p*p::2*p]) # Sieves out multiples of p, starting at p*p.\n",
        "        p = p + 2 # Try the next value of p.  Note that we can proceed only through odd p!\n",
        "        \n",
        "    return flags"
      ],
      "execution_count": 25,
      "outputs": []
    },
    {
      "cell_type": "code",
      "metadata": {
        "id": "gW6DlvCmo1Nx",
        "colab": {
          "base_uri": "https://localhost:8080/"
        },
        "outputId": "855ce5fb-37bf-4bcf-d11f-f28d04216a79"
      },
      "source": [
        "%timeit sum(isprime_list(10**6))  # How much did this speed it up?"
      ],
      "execution_count": 26,
      "outputs": [
        {
          "output_type": "stream",
          "name": "stdout",
          "text": [
            "86.1 ms ± 15.5 ms per loop (mean ± std. dev. of 7 runs, 10 loops each)\n"
          ]
        }
      ]
    },
    {
      "cell_type": "markdown",
      "metadata": {
        "id": "hiCV5pUEo1Nx"
      },
      "source": [
        "Another modest improvement is the following.  In the code above, the program *counts* the terms in sequences like 9,15,21,27,..., in order to set them to `False`.  This is accomplished with the length command `len(flags[p*p::2*p])`.  But that length computation is a bit too intensive.  A bit of algebraic work shows that the length is given formulaically in terms of `p` and `n` by the formula:  \n",
        "\n",
        "$$len = \\lfloor \\frac{n - p^2 - 1}{2p} \\rfloor + 1$$\n",
        "\n",
        "(Here $\\lfloor x \\rfloor$ denotes the floor function, i.e., the result of rounding down.)  Putting this into the code yields the following."
      ]
    },
    {
      "cell_type": "code",
      "metadata": {
        "id": "46RPEsKCo1Nx"
      },
      "source": [
        "def isprime_list(n):\n",
        "    ''' \n",
        "    Return a list of length n+1\n",
        "    with Trues at prime indices and Falses at composite indices.\n",
        "    '''\n",
        "    flags = [True] * (n+1)  # A list [True, True, True,...] to start.\n",
        "    flags[0] = False  # Zero is not prime.  So its flag is set to False.\n",
        "    flags[1] = False  # One is not prime.  So its flag is set to False.\n",
        "    flags[4::2] = [False] * ((n-2)//2)\n",
        "    p = 3\n",
        "    while p <= sqrt(n):  # We only need to sieve by p is p <= sqrt(n).\n",
        "        if flags[p]:  # We sieve the multiples of p if flags[p]=True.\n",
        "            flags[p*p::2*p] = [False] * ((n-p*p)//(2*p)+1) # Sieves out multiples of p, starting at p*p.\n",
        "        p = p + 2 # Try the next value of p.\n",
        "        \n",
        "    return flags"
      ],
      "execution_count": 27,
      "outputs": []
    },
    {
      "cell_type": "code",
      "metadata": {
        "id": "gMCxzJ8yo1Nx",
        "colab": {
          "base_uri": "https://localhost:8080/"
        },
        "outputId": "b26ee75a-8f22-464a-aef4-ebcb50ab8fae"
      },
      "source": [
        "%timeit sum(isprime_list(10**6))  # How much did this speed it up?"
      ],
      "execution_count": 28,
      "outputs": [
        {
          "output_type": "stream",
          "name": "stdout",
          "text": [
            "53.6 ms ± 1.04 ms per loop (mean ± std. dev. of 7 runs, 10 loops each)\n"
          ]
        }
      ]
    },
    {
      "cell_type": "markdown",
      "metadata": {
        "id": "NT6XwvCJo1Nx"
      },
      "source": [
        "That should be pretty fast!  It should be under 100 ms (one tenth of one second!) to determine the primes up to a million, and on a newer computer it should be under 50ms.  We have gotten pretty close to the fastest algorithms that you can find in Python, without using external packages (like SAGE or sympy).  See the related [discussion on StackOverflow](https://stackoverflow.com/questions/2068372/fastest-way-to-list-all-primes-below-n)... the code in this lesson was influenced by the code presented there."
      ]
    },
    {
      "cell_type": "markdown",
      "metadata": {
        "id": "8Noiny4ho1Nx"
      },
      "source": [
        "### Exercises\n",
        "\n",
        "1.  Prove that the length of `range(p*p, n, 2*p)` equals $\\lfloor \\frac{n - p^2 - 1}{2p} \\rfloor + 1$.\n",
        "\n",
        "2.  A natural number $n$ is called squarefree if it has no perfect square divides $n$ except for 1.  Write a function `squarefree_list(n)` which outputs a list of booleans:  `True` if the index is squarefree and `False` if the index is not squarefree.  For example, if you execute `squarefree_list(12)`, the output should be `[False, True, True, True, False, True, True, True, False, False, True, True, False]`.  Note that the `False` entries are located the indices 0, 4, 8, 9, 12.  These natural numbers have perfect square divisors besides 1.  \n",
        "\n",
        "3.  Your DNA contains about 3 billion base pairs.  Each \"base pair\" can be thought of as a letter, A, T, G, or C.  How many bits would be required to store a single base pair?  In other words, how might you convert a sequence of booleans into a letter A,T,G, or C?  Given this, how many megabytes or gigabytes are required to store your DNA?  How many people's DNA would fit on a thumb-drive?"
      ]
    },
    {
      "cell_type": "markdown",
      "source": [
        "# #1 I wrote a proof for #1 and then did problem 2 but then made some edits that weren't necessary so i tried to use the undo command (control+m+z) built into collab and it deleted the cell for problem 2, then I tried to undo that action and I undid the cell for #1. I would normally try and prove #1 again but I am running out of time so im gonna choose to skip this one and redo number 2. Knowing control+m+z undos a whole cell is good to know, and I now know you can redo an undon cell, but unfortunatly it only redoes the last one, and doesnt keep a log of all the edits like the normal control+z command."
      ],
      "metadata": {
        "id": "pmBUv8aBiES3"
      }
    },
    {
      "cell_type": "code",
      "source": [
        "#2\n",
        "def again2(n):\n",
        "\n",
        "    L = [True] * (n+1)  # A list [True, True, True,...] to start.\n",
        "    L[0] = False  # Zero is not prime.  So its flag is set to False.\n",
        "    L[1] = True\n",
        "    for c in range (1,n+1):\n",
        "      for b in range (2,n+1):\n",
        "        if c%(b*b)==0:\n",
        "          L[c] = False\n",
        "        \n",
        "        b+=1\n",
        "      c+=1\n",
        "    return L\n",
        "again2(12)\n"
      ],
      "metadata": {
        "colab": {
          "base_uri": "https://localhost:8080/"
        },
        "id": "iDiRVYoGFu6b",
        "outputId": "eb67c6c0-d6ba-46f7-d071-d649aaf40dac"
      },
      "execution_count": 29,
      "outputs": [
        {
          "output_type": "execute_result",
          "data": {
            "text/plain": [
              "[False,\n",
              " True,\n",
              " True,\n",
              " True,\n",
              " False,\n",
              " True,\n",
              " True,\n",
              " True,\n",
              " False,\n",
              " False,\n",
              " True,\n",
              " True,\n",
              " False]"
            ]
          },
          "metadata": {},
          "execution_count": 29
        }
      ]
    },
    {
      "cell_type": "markdown",
      "source": [
        "#3\n",
        "#Well 1 bit stores 1 boolean so if we have 2 booleans that make a sequence of 00,01,10,11 that represent A,T,G, and C this gives us 2 bits per base pair. This implies we have about 6 billion bits if we tried to store our DNA like this. \n",
        "# If we convert, it would take about 750 megabytes to store someones DNA. The amount of people you could fit on the thumb-drive depends on the size of the thumb-drive.\n"
      ],
      "metadata": {
        "id": "IC7J7bLvh_KW"
      }
    },
    {
      "cell_type": "markdown",
      "metadata": {
        "id": "hXac_vzPo1Nx"
      },
      "source": [
        "<a id='analysis'></a>"
      ]
    },
    {
      "cell_type": "markdown",
      "metadata": {
        "id": "tuP5axz9o1Nx"
      },
      "source": [
        "## Data analysis"
      ]
    },
    {
      "cell_type": "markdown",
      "metadata": {
        "id": "41IrhAupo1Nx"
      },
      "source": [
        "Now that we can produce a list of prime numbers quickly, we can do some data analysis:  some experimental number theory to look for trends or patterns in the sequence of prime numbers.  Since Euclid (about 300 BCE), we have known that there are infinitely many prime numbers.  But how are they distributed?  What proportion of numbers are prime, and how does this proportion change over different ranges?  As theoretical questions, these belong the the field of analytic number theory.  But it is hard to know what to prove without doing a bit of experimentation.  And so, at least since Gauss [(read Tschinkel's article about Gauss's tables)](http://www.ams.org/journals/bull/2006-43-01/S0273-0979-05-01096-7/S0273-0979-05-01096-7.pdf) started examining his extensive tables of prime numbers, mathematicians have been carrying out experimental number theory."
      ]
    },
    {
      "cell_type": "markdown",
      "metadata": {
        "id": "ZE0QFlwYo1Ny"
      },
      "source": [
        "### Analyzing the list of primes\n",
        "\n",
        "Let's begin by creating our data set:  the prime numbers up to 1 million."
      ]
    },
    {
      "cell_type": "code",
      "metadata": {
        "id": "9HB_PuBXo1Ny"
      },
      "source": [
        "primes = where(isprime_list(1000000))"
      ],
      "execution_count": 12,
      "outputs": []
    },
    {
      "cell_type": "code",
      "metadata": {
        "id": "bdr1hcP0o1Ny",
        "colab": {
          "base_uri": "https://localhost:8080/"
        },
        "outputId": "36b05d45-d640-44f5-a894-3c6a8513c81e"
      },
      "source": [
        "len(primes) # Our population size.  A statistician might call it N."
      ],
      "execution_count": 31,
      "outputs": [
        {
          "output_type": "execute_result",
          "data": {
            "text/plain": [
              "78498"
            ]
          },
          "metadata": {},
          "execution_count": 31
        }
      ]
    },
    {
      "cell_type": "code",
      "metadata": {
        "id": "wJs6DNcBo1Ny",
        "colab": {
          "base_uri": "https://localhost:8080/"
        },
        "outputId": "7d15620b-e2dc-44e8-c065-5963ea7fd8fe"
      },
      "source": [
        "primes[-1]  # The last prime in our list, just before one million."
      ],
      "execution_count": 32,
      "outputs": [
        {
          "output_type": "execute_result",
          "data": {
            "text/plain": [
              "999983"
            ]
          },
          "metadata": {},
          "execution_count": 32
        }
      ]
    },
    {
      "cell_type": "code",
      "metadata": {
        "scrolled": true,
        "id": "7geu3XMoo1Ny",
        "colab": {
          "base_uri": "https://localhost:8080/"
        },
        "outputId": "4e111f71-8416-47e6-d91d-719a26d9bc39"
      },
      "source": [
        "type(primes) # What type is this data?"
      ],
      "execution_count": 33,
      "outputs": [
        {
          "output_type": "execute_result",
          "data": {
            "text/plain": [
              "list"
            ]
          },
          "metadata": {},
          "execution_count": 33
        }
      ]
    },
    {
      "cell_type": "code",
      "metadata": {
        "id": "siBIu-IGo1Ny",
        "colab": {
          "base_uri": "https://localhost:8080/"
        },
        "outputId": "03e6c897-de51-41bc-f3af-859da5d9a2f7"
      },
      "source": [
        "print(primes[:100]) # The first hundred prime numbers."
      ],
      "execution_count": 34,
      "outputs": [
        {
          "output_type": "stream",
          "name": "stdout",
          "text": [
            "[2, 3, 5, 7, 11, 13, 17, 19, 23, 29, 31, 37, 41, 43, 47, 53, 59, 61, 67, 71, 73, 79, 83, 89, 97, 101, 103, 107, 109, 113, 127, 131, 137, 139, 149, 151, 157, 163, 167, 173, 179, 181, 191, 193, 197, 199, 211, 223, 227, 229, 233, 239, 241, 251, 257, 263, 269, 271, 277, 281, 283, 293, 307, 311, 313, 317, 331, 337, 347, 349, 353, 359, 367, 373, 379, 383, 389, 397, 401, 409, 419, 421, 431, 433, 439, 443, 449, 457, 461, 463, 467, 479, 487, 491, 499, 503, 509, 521, 523, 541]\n"
          ]
        }
      ]
    },
    {
      "cell_type": "markdown",
      "metadata": {
        "id": "A6j9MmSGo1Ny"
      },
      "source": [
        "To carry out serious analysis, we will use the method of **list comprehension** to place our population into \"bins\" for statistical analysis.  Our first type of list comprehension has the form `[x for x in LIST if CONDITION]`.  This produces the list of all elements of LIST satisfying CONDITION.  It is similar to list slicing, except we pull out terms from the list according to whether a condition is true or false.\n",
        "\n",
        "For example, let's divide the (odd) primes into two classes.  Red primes will be those of the form 4n+1.  Blue primes will be those of the form 4n+3.  In other words, a prime `p` is red if `p%4 == 1` and blue if `p%4 == 3`.  And the prime 2 is neither red nor blue."
      ]
    },
    {
      "cell_type": "code",
      "metadata": {
        "id": "bINic7Ceo1Ny",
        "colab": {
          "base_uri": "https://localhost:8080/"
        },
        "outputId": "f31eb034-65ba-4779-b372-0ddcc5312e05"
      },
      "source": [
        "redprimes = [p for p in primes if p%4 == 1] # Note the [x for x in LIST if CONDITION] syntax.\n",
        "blueprimes = [p for p in primes if p%4 == 3]\n",
        "\n",
        "print('Red primes:',redprimes[:20]) # The first 20 red primes.\n",
        "print('Blue primes:',blueprimes[:20]) # The first 20 blue primes."
      ],
      "execution_count": 15,
      "outputs": [
        {
          "output_type": "stream",
          "name": "stdout",
          "text": [
            "Red primes: [5, 13, 17, 29, 37, 41, 53, 61, 73, 89, 97, 101, 109, 113, 137, 149, 157, 173, 181, 193]\n",
            "Blue primes: [3, 7, 11, 19, 23, 31, 43, 47, 59, 67, 71, 79, 83, 103, 107, 127, 131, 139, 151, 163]\n"
          ]
        }
      ]
    },
    {
      "cell_type": "code",
      "metadata": {
        "id": "XXK10HG4o1Ny",
        "colab": {
          "base_uri": "https://localhost:8080/"
        },
        "outputId": "402ec8b6-b07d-414c-ee39-37763bb2a832"
      },
      "source": [
        "print(\"There are {} red primes and {} blue primes, up to 1 million.\".format(len(redprimes), len(blueprimes)))"
      ],
      "execution_count": 36,
      "outputs": [
        {
          "output_type": "stream",
          "name": "stdout",
          "text": [
            "There are 39175 red primes and 39322 blue primes, up to 1 million.\n"
          ]
        }
      ]
    },
    {
      "cell_type": "markdown",
      "metadata": {
        "id": "EMVjQlHuo1Ny"
      },
      "source": [
        "This is pretty close!  It seems like prime numbers are about evenly distributed between red and blue.  Their remainder after division by 4 is about as likely to be 1 as it is to be 3.  In fact, it is proven that *asymptotically* the ratio between the number of red primes and the number of blue primes approaches 1.  However, Chebyshev noticed a persistent slight bias towards blue primes along the way."
      ]
    },
    {
      "cell_type": "markdown",
      "metadata": {
        "id": "iBN5IBLwo1Ny"
      },
      "source": [
        "Some of the deepest conjectures in mathematics relate to the [prime counting function](https://en.wikipedia.org/wiki/Prime-counting_function) $\\pi(x)$.  Here $\\pi(x)$ is the **number of primes** between 1 and $x$ (inclusive).  So $\\pi(2) = 1$ and $\\pi(3) = 2$ and $\\pi(4) = 2$ and $\\pi(5) = 3$.  One can compute a value of $\\pi(x)$ pretty easily using a list comprehension.\n",
        "\n"
      ]
    },
    {
      "cell_type": "code",
      "metadata": {
        "id": "oFK7OGHoo1Nz"
      },
      "source": [
        "def primes_upto(x):\n",
        "    return len([p for p in primes if p <= x]) # List comprehension recovers the primes up to x."
      ],
      "execution_count": 37,
      "outputs": []
    },
    {
      "cell_type": "code",
      "metadata": {
        "id": "eCi28UhMo1Nz",
        "colab": {
          "base_uri": "https://localhost:8080/"
        },
        "outputId": "05e63c5d-8af0-4e96-dcb5-c2cab3be4d5a"
      },
      "source": [
        "primes_upto(1000)  # There are 168 primes between 1 and 1000."
      ],
      "execution_count": 38,
      "outputs": [
        {
          "output_type": "execute_result",
          "data": {
            "text/plain": [
              "168"
            ]
          },
          "metadata": {},
          "execution_count": 38
        }
      ]
    },
    {
      "cell_type": "markdown",
      "metadata": {
        "id": "ZlnkhYw7o1Nz"
      },
      "source": [
        "Now we graph the prime counting function.  To do this, we use a list comprehension, and the visualization library called matplotlib.  For graphing a function, the basic idea is to create a list of x-values, a list of corresponding y-values (so the lists have to be the same length!), and then we feed the two lists into matplotlib to make the graph.\n",
        "\n",
        "We begin by loading the necessary packages."
      ]
    },
    {
      "cell_type": "code",
      "metadata": {
        "id": "cvVF2M5Go1Nz"
      },
      "source": [
        "import matplotlib  #  A powerful graphics package.\n",
        "import numpy  #  A math package\n",
        "import matplotlib.pyplot as plt  # A plotting subpackage in matplotlib."
      ],
      "execution_count": 3,
      "outputs": []
    },
    {
      "cell_type": "markdown",
      "metadata": {
        "id": "-iouxGxro1Nz"
      },
      "source": [
        "Now let's graph the function $y = x^2$ over the domain $-2 \\leq x \\leq 2$ for practice.  As a first step, we use numpy's `linspace` function to create an evenly spaced set of 11 x-values between -2 and 2."
      ]
    },
    {
      "cell_type": "code",
      "metadata": {
        "id": "n7oh0AAAo1Nz",
        "colab": {
          "base_uri": "https://localhost:8080/"
        },
        "outputId": "b0166147-ec4f-438a-c2ec-9570356e78bb"
      },
      "source": [
        "x_values = numpy.linspace(-2,2,11)  # The argument 11 is the *number* of terms, not the step size!\n",
        "print(x_values)\n",
        "type(x_values)"
      ],
      "execution_count": 40,
      "outputs": [
        {
          "output_type": "stream",
          "name": "stdout",
          "text": [
            "[-2.  -1.6 -1.2 -0.8 -0.4  0.   0.4  0.8  1.2  1.6  2. ]\n"
          ]
        },
        {
          "output_type": "execute_result",
          "data": {
            "text/plain": [
              "numpy.ndarray"
            ]
          },
          "metadata": {},
          "execution_count": 40
        }
      ]
    },
    {
      "cell_type": "markdown",
      "metadata": {
        "id": "idcqPGZ0o1Nz"
      },
      "source": [
        "You might notice that the format looks a bit different from a list.  Indeed, if you check `type(x_values)`, it's not a list but something else called a numpy array.  Numpy is a package that excels with computations on large arrays of data.  On the surface, it's not so different from a list.  The `numpy.linspace` command is a convenient way of producing an evenly spaced list of inputs.\n",
        "\n",
        "The big difference is that operations on numpy arrays are interpreted differently than operations on ordinary Python lists.  Try the two commands for comparison."
      ]
    },
    {
      "cell_type": "code",
      "metadata": {
        "id": "5LjKKSeZo1Nz",
        "colab": {
          "base_uri": "https://localhost:8080/"
        },
        "outputId": "c2c031bc-e87b-4d0f-cbde-1d26a48b1b4b"
      },
      "source": [
        "[1,2,3] + [1,2,3]"
      ],
      "execution_count": 41,
      "outputs": [
        {
          "output_type": "execute_result",
          "data": {
            "text/plain": [
              "[1, 2, 3, 1, 2, 3]"
            ]
          },
          "metadata": {},
          "execution_count": 41
        }
      ]
    },
    {
      "cell_type": "code",
      "metadata": {
        "id": "qZFk1LBJo1Nz",
        "colab": {
          "base_uri": "https://localhost:8080/"
        },
        "outputId": "aab91d77-37eb-4499-a2d6-8280da402027"
      },
      "source": [
        "x_values + x_values"
      ],
      "execution_count": 42,
      "outputs": [
        {
          "output_type": "execute_result",
          "data": {
            "text/plain": [
              "array([-4. , -3.2, -2.4, -1.6, -0.8,  0. ,  0.8,  1.6,  2.4,  3.2,  4. ])"
            ]
          },
          "metadata": {},
          "execution_count": 42
        }
      ]
    },
    {
      "cell_type": "code",
      "metadata": {
        "id": "LyesLSuPo1N0",
        "colab": {
          "base_uri": "https://localhost:8080/"
        },
        "outputId": "70bec04f-da8c-4bd0-e2e2-98073dd04389"
      },
      "source": [
        "y_values = x_values * x_values  # How is multiplication interpreted on numpy arrays?\n",
        "print(y_values)"
      ],
      "execution_count": 43,
      "outputs": [
        {
          "output_type": "stream",
          "name": "stdout",
          "text": [
            "[4.   2.56 1.44 0.64 0.16 0.   0.16 0.64 1.44 2.56 4.  ]\n"
          ]
        }
      ]
    },
    {
      "cell_type": "markdown",
      "metadata": {
        "id": "uAFegDVTo1N0"
      },
      "source": [
        "Now we use matplotlib to create a simple line graph."
      ]
    },
    {
      "cell_type": "code",
      "metadata": {
        "id": "tjB51noto1N0",
        "colab": {
          "base_uri": "https://localhost:8080/",
          "height": 299
        },
        "outputId": "4139f259-f9c6-47fa-cb30-287a48e93fad"
      },
      "source": [
        "%matplotlib inline\n",
        "plt.plot(x_values, y_values)\n",
        "plt.title('The graph of $y = x^2$')  # The dollar signs surround the formula, in LaTeX format.\n",
        "plt.ylabel('y')\n",
        "plt.xlabel('x')\n",
        "plt.grid(True)\n",
        "plt.show()\n"
      ],
      "execution_count": 44,
      "outputs": [
        {
          "output_type": "display_data",
          "data": {
            "text/plain": [
              "<Figure size 432x288 with 1 Axes>"
            ],
            "image/png": "[encoded data removed]"
          },
          "metadata": {
            "needs_background": "light"
          }
        }
      ]
    },
    {
      "cell_type": "markdown",
      "metadata": {
        "id": "9Wg3S1WTo1N0"
      },
      "source": [
        "Let's analyze the graphing code a bit more.  See the [official pyplot tutorial](https://matplotlib.org/users/pyplot_tutorial.html) for more details.  \n",
        "```python\n",
        "%matplotlib inline\n",
        "plt.plot(x_values, y_values)\n",
        "plt.title('The graph of $y = x^2$')  # The dollar signs surround the formula, in LaTeX format.\n",
        "plt.ylabel('y')\n",
        "plt.xlabel('x')\n",
        "plt.grid(True)\n",
        "plt.show()\n",
        "```\n",
        "The first line contains the **magic** `%matplotlib inline`.  We have seen a magic word before, in `%timeit`.  [Magic words](http://ipython.readthedocs.io/en/stable/interactive/magics.html) can call another program to assist.  So here, the magic `%matplotlib inline` calls matplotlib for help, and places the resulting figure within the notebook.\n",
        "\n",
        "The next line `plt.plot(x_values, y_values)` creates a `plot object` based on the data of the x-values and y-values.  It is an abstract sort of object, behind the scenes, in a format that matplotlib understands.  The following lines set the title of the plot, the axis labels, and turns a grid on.  The last line `plt.show` renders the plot as an image in your notebook.  There's an infinite variety of graphs that matplotlib can produce -- see [the gallery](https://matplotlib.org/gallery.html) for more!  Other graphics packages include [bokeh](http://bokeh.pydata.org/en/latest/) and [seaborn](http://seaborn.pydata.org/), which extends matplotlib."
      ]
    },
    {
      "cell_type": "markdown",
      "metadata": {
        "id": "b0yTOq4-o1N0"
      },
      "source": [
        "### Analysis of the prime counting function\n",
        "\n",
        "Now, to analyze the prime counting function, let's graph it.  To make a graph, we will first need a list of many values of x and many corresponding values of $\\pi(x)$.  We do this with two commands.  The first might take a minute to compute."
      ]
    },
    {
      "cell_type": "code",
      "metadata": {
        "id": "gnKV26bno1N0"
      },
      "source": [
        "x_values = numpy.linspace(0,1000000,1001) # The numpy array [0,1000,2000,3000,...,1000000]\n",
        "pix_values = numpy.array([primes_upto(x) for x in x_values])  # [FUNCTION(x) for x in LIST] syntax"
      ],
      "execution_count": 45,
      "outputs": []
    },
    {
      "cell_type": "markdown",
      "metadata": {
        "id": "aqlila-uo1N0"
      },
      "source": [
        "We created an array of x-values as before.  But the creation of an array of y-values (here, called `pix_values` to stand for $\\pi(x)$) probably looks strange.  We have done two new things!\n",
        "\n",
        "1.  We have used a list comprehension `[primes_upto(x) for x in x_values]` to create a **list** of y-values.\n",
        "2.  We have used numpy.array(LIST) syntax to convert a Python list into a numpy array.\n",
        "\n",
        "First, we explain the list comprehension.  Instead of pulling out values of a list according to a condition, with `[x for x in LIST if CONDITION]`, we have created a new list based on performing a function each element of a list.  The syntax, used above, is `[FUNCTION(x) for x in LIST]`.  These two methods of list comprehension can be combined, in fact.  The most general syntax for list comprehension is `[FUNCTION(x) for x in LIST if CONDITION]`.\n",
        "\n",
        "Second, a list comprehension can be carried out on a numpy array, but the result is a plain Python list.  It will be better to have a numpy array instead for what follows, so we use the `numpy.array()` function to convert the list into a numpy array."
      ]
    },
    {
      "cell_type": "code",
      "metadata": {
        "id": "i2DlTbsho1N0",
        "colab": {
          "base_uri": "https://localhost:8080/"
        },
        "outputId": "0e136730-509e-431d-91f1-911dd04cc9c2"
      },
      "source": [
        "type(numpy.array([1,2,3]))  # For example."
      ],
      "execution_count": 46,
      "outputs": [
        {
          "output_type": "execute_result",
          "data": {
            "text/plain": [
              "numpy.ndarray"
            ]
          },
          "metadata": {},
          "execution_count": 46
        }
      ]
    },
    {
      "cell_type": "markdown",
      "metadata": {
        "id": "BMmq8Fx4o1N0"
      },
      "source": [
        "Now we have two numpy arrays:  the array of x-values and the array of y-values.  We can make a plot with matplotlib."
      ]
    },
    {
      "cell_type": "code",
      "metadata": {
        "id": "Cq5kg4HPo1N0",
        "colab": {
          "base_uri": "https://localhost:8080/"
        },
        "outputId": "c9e376dd-5860-4c99-c236-488df8418e53"
      },
      "source": [
        "len(x_values) == len(pix_values)  # These better be the same, or else matplotlib will be unhappy."
      ],
      "execution_count": 47,
      "outputs": [
        {
          "output_type": "execute_result",
          "data": {
            "text/plain": [
              "True"
            ]
          },
          "metadata": {},
          "execution_count": 47
        }
      ]
    },
    {
      "cell_type": "code",
      "metadata": {
        "id": "DEfDVt9Wo1N0",
        "colab": {
          "base_uri": "https://localhost:8080/",
          "height": 295
        },
        "outputId": "647f84e1-dae5-4b97-8fc4-8409d4e882a3"
      },
      "source": [
        "%matplotlib inline\n",
        "plt.plot(x_values, pix_values)\n",
        "plt.title('The prime counting function')\n",
        "plt.ylabel('$\\pi(x)$')\n",
        "plt.xlabel('x')\n",
        "plt.grid(True)\n",
        "plt.show()"
      ],
      "execution_count": 48,
      "outputs": [
        {
          "output_type": "display_data",
          "data": {
            "text/plain": [
              "<Figure size 432x288 with 1 Axes>"
            ],
            "image/png": "[encoded data removed]"
          },
          "metadata": {
            "needs_background": "light"
          }
        }
      ]
    },
    {
      "cell_type": "markdown",
      "metadata": {
        "id": "R7djMP0do1N1"
      },
      "source": [
        "In this range, the prime counting function might look nearly linear.  But if you look closely, there's a subtle downward bend.  This is more pronounced in smaller ranges.  For example, let's look at the first 10 x-values and y-values only."
      ]
    },
    {
      "cell_type": "code",
      "metadata": {
        "id": "oTPTeUX4o1N1",
        "colab": {
          "base_uri": "https://localhost:8080/",
          "height": 295
        },
        "outputId": "dd026825-5a69-465f-f0f3-5364d595cac2"
      },
      "source": [
        "%matplotlib inline\n",
        "plt.plot(x_values[:10], pix_values[:10])  # Look closer to 0.\n",
        "plt.title('The prime counting function')\n",
        "plt.ylabel('$\\pi(x)$')\n",
        "plt.xlabel('x')\n",
        "plt.grid(True)\n",
        "plt.show()"
      ],
      "execution_count": 49,
      "outputs": [
        {
          "output_type": "display_data",
          "data": {
            "text/plain": [
              "<Figure size 432x288 with 1 Axes>"
            ],
            "image/png": "[encoded data removed]"
          },
          "metadata": {
            "needs_background": "light"
          }
        }
      ]
    },
    {
      "cell_type": "markdown",
      "metadata": {
        "id": "EnrdVEyCo1N1"
      },
      "source": [
        "It still looks almost linear, but there's a visible downward bend here.  How can we see this bend more clearly?  If the graph were linear, its equation would have the form $\\pi(x) = mx$ for some fixed slope $m$ (since the graph *does* pass through the origin).  Therefore, the quantity $\\pi(x)/x$ would be *constant* if the graph were linear.  \n",
        "\n",
        "Hence, if we graph $\\pi(x) / x$ on the y-axis and $x$ on the x-axis, and the result is nonconstant, then the function $\\pi(x)$ is nonlinear."
      ]
    },
    {
      "cell_type": "code",
      "metadata": {
        "id": "ZgRF7b2Ko1N1"
      },
      "source": [
        "m_values = pix_values[1:] / x_values[1:]  # We start at 1, to avoid a division by zero error."
      ],
      "execution_count": 50,
      "outputs": []
    },
    {
      "cell_type": "code",
      "metadata": {
        "id": "-grvUV4so1N1",
        "colab": {
          "base_uri": "https://localhost:8080/",
          "height": 297
        },
        "outputId": "81baa6a1-536b-4fbc-8452-bd393aa2c18d"
      },
      "source": [
        "%matplotlib inline\n",
        "plt.plot(x_values[1:], m_values)\n",
        "plt.title('The ratio $\\pi(x) / x$ as $x$ varies.')\n",
        "plt.xlabel('x')\n",
        "plt.ylabel('$\\pi(x) / x$')\n",
        "plt.grid(True)\n",
        "plt.show()"
      ],
      "execution_count": 51,
      "outputs": [
        {
          "output_type": "display_data",
          "data": {
            "text/plain": [
              "<Figure size 432x288 with 1 Axes>"
            ],
            "image/png": "[encoded data removed]"
          },
          "metadata": {
            "needs_background": "light"
          }
        }
      ]
    },
    {
      "cell_type": "markdown",
      "metadata": {
        "id": "HwGVsVlxo1N1"
      },
      "source": [
        "That is certainly not constant!  The decay of $\\pi(x) / x$ is not so different from $1 / \\log(x)$, in fact.  To see this, let's overlay the graphs.  We use the `numpy.log` function, which computes the natural logarithm of its input (and allows an entire array as input)."
      ]
    },
    {
      "cell_type": "code",
      "metadata": {
        "id": "YlSSqcDko1N1",
        "colab": {
          "base_uri": "https://localhost:8080/",
          "height": 297
        },
        "outputId": "2e1285f9-c7a4-442e-cdd2-85d59da29b91"
      },
      "source": [
        "%matplotlib inline\n",
        "plt.plot(x_values[1:], m_values, label='$\\pi(x)/x$')  # The same as the plot above.\n",
        "plt.plot(x_values[1:], 1 / numpy.log(x_values[1:]), label='$1 / \\log(x)$')  # Overlay the graph of 1 / log(x)\n",
        "plt.title('The ratio of $\\pi(x) / x$ as $x$ varies.')\n",
        "plt.xlabel('x')\n",
        "plt.ylabel('$\\pi(x) / x$')\n",
        "plt.grid(True)\n",
        "plt.legend()  # Turn on the legend.\n",
        "plt.show()"
      ],
      "execution_count": 52,
      "outputs": [
        {
          "output_type": "display_data",
          "data": {
            "text/plain": [
              "<Figure size 432x288 with 1 Axes>"
            ],
            "image/png": "[encoded data removed]"
          },
          "metadata": {
            "needs_background": "light"
          }
        }
      ]
    },
    {
      "cell_type": "markdown",
      "metadata": {
        "id": "zrPg3i8-o1N1"
      },
      "source": [
        "The shape of the decay of $\\pi(x) / x$ is very close to $1 / \\log(x)$, but it looks like there is an offset.  In fact, there is, and it is pretty close to $1 / \\log(x)^2$.  And that is close, but again there's another little offset, this time proportional to $2 / \\log(x)^3$.  This goes on forever, if one wishes to approximate $\\pi(x) / x$ by an \"asymptotic expansion\" (not a good idea, it turns out).\n",
        "\n",
        "The closeness of $\\pi(x) / x$ to $1 / \\log(x)$ is expressed in the **prime number theorem**:\n",
        "$$\\lim_{x \\rightarrow \\infty} \\frac{\\pi(x)}{x / \\log(x)} = 1.$$"
      ]
    },
    {
      "cell_type": "code",
      "metadata": {
        "id": "NWQ3CIVwo1N1",
        "colab": {
          "base_uri": "https://localhost:8080/",
          "height": 297
        },
        "outputId": "37cc0453-f55e-4f6f-c1e5-be4e4b530d68"
      },
      "source": [
        "%matplotlib inline\n",
        "plt.plot(x_values[1:], m_values * numpy.log(x_values[1:])  )  # Should get closer to 1.\n",
        "plt.title('The ratio $\\pi(x) / (x / \\log(x))$ approaches 1... slowly')\n",
        "plt.xlabel('x')\n",
        "plt.ylabel('$\\pi(x) / (x / \\log(x)) $')\n",
        "plt.ylim(0.8,1.2)\n",
        "plt.grid(True)\n",
        "plt.show()"
      ],
      "execution_count": 53,
      "outputs": [
        {
          "output_type": "display_data",
          "data": {
            "text/plain": [
              "<Figure size 432x288 with 1 Axes>"
            ],
            "image/png": "[encoded data removed]"
          },
          "metadata": {
            "needs_background": "light"
          }
        }
      ]
    },
    {
      "cell_type": "markdown",
      "metadata": {
        "id": "X6ELoOO-o1N1"
      },
      "source": [
        "Comparing the graph to the theoretical result, we find that the ratio $\\pi(x) / (x / \\log(x))$ approaches $1$ (the theoretical result) but very slowly (see the graph above!)."
      ]
    },
    {
      "cell_type": "markdown",
      "metadata": {
        "id": "aqXOKRako1N1"
      },
      "source": [
        "A much stronger result relates $\\pi(x)$ to the \"logarithmic integral\" $li(x)$.  The [Riemann hypothesis](http://www.claymath.org/millennium-problems/riemann-hypothesis) is equivalent to the statement\n",
        "$$\\left\\vert \\pi(x) - li(x) \\right\\vert = O(\\sqrt{x} \\log(x)).$$\n",
        "In other words, the error if one approximates $\\pi(x)$ by $li(x)$ is bounded by a constant times $\\sqrt{x} \\log(x)$.  The logarithmic integral function isn't part of Python or numpy, but it is in the mpmath package.  If you have this package installed, then you can try the following."
      ]
    },
    {
      "cell_type": "code",
      "metadata": {
        "id": "KqOcdcCjo1N2"
      },
      "source": [
        "from mpmath import li"
      ],
      "execution_count": 54,
      "outputs": []
    },
    {
      "cell_type": "code",
      "metadata": {
        "id": "Pgee6LGxo1N2",
        "colab": {
          "base_uri": "https://localhost:8080/"
        },
        "outputId": "3e97ff5e-3caa-4753-e4ec-80cc1da787c4"
      },
      "source": [
        "print(primes_upto(1000000))  # The number of primes up to 1 million.\n",
        "print(li(1000000))  # The logarithmic integral of 1 million."
      ],
      "execution_count": 55,
      "outputs": [
        {
          "output_type": "stream",
          "name": "stdout",
          "text": [
            "78498\n",
            "78627.5491594622\n"
          ]
        }
      ]
    },
    {
      "cell_type": "markdown",
      "metadata": {
        "id": "8Ak3l_pPo1N2"
      },
      "source": [
        "Not too shabby!"
      ]
    },
    {
      "cell_type": "markdown",
      "metadata": {
        "id": "Sp7gn8eto1N2"
      },
      "source": [
        "### Prime gaps\n",
        "\n",
        "As a last bit of data analysis, we consider the **prime gaps**.  These are the numbers that occur as differences between consecutive primes.  Since all primes except 2 are odd, all prime gaps are even except for the 1-unit gap between 2 and 3.  There are many unsolved problems about prime gaps; the most famous might be that a gap of 2 occurs infinitely often (as in the gaps between 3,5 and between 11,13 and between 41,43, etc.).\n",
        "\n",
        "Once we have our data set of prime numbers, it is not hard to create a data set of prime gaps.  Recall that `primes` is our list of prime numbers up to 1 million."
      ]
    },
    {
      "cell_type": "code",
      "metadata": {
        "id": "NHd3eV32o1N2",
        "colab": {
          "base_uri": "https://localhost:8080/"
        },
        "outputId": "3b75bc99-16d4-4c5f-fd12-7cd4d9da678d"
      },
      "source": [
        "len(primes) # The number of primes up to 1 million."
      ],
      "execution_count": 56,
      "outputs": [
        {
          "output_type": "execute_result",
          "data": {
            "text/plain": [
              "78498"
            ]
          },
          "metadata": {},
          "execution_count": 56
        }
      ]
    },
    {
      "cell_type": "code",
      "metadata": {
        "id": "XHc6S5mzo1N2"
      },
      "source": [
        "primes_allbutlast = primes[:-1]  # This excludes the last prime in the list.\n",
        "primes_allbutfirst = primes[1:]  # This excludes the first (i.e., with index 0) prime in the list."
      ],
      "execution_count": 57,
      "outputs": []
    },
    {
      "cell_type": "code",
      "metadata": {
        "id": "QBIkUK5eo1N2"
      },
      "source": [
        "primegaps = numpy.array(primes_allbutfirst) - numpy.array(primes_allbutlast) # Numpy is fast!"
      ],
      "execution_count": 58,
      "outputs": []
    },
    {
      "cell_type": "code",
      "metadata": {
        "id": "tqGLrNREo1N2",
        "colab": {
          "base_uri": "https://localhost:8080/"
        },
        "outputId": "35e1721b-52dc-4e77-d742-ad442581f3d3"
      },
      "source": [
        "print(primegaps[:100])  # The first hundred prime gaps!"
      ],
      "execution_count": 59,
      "outputs": [
        {
          "output_type": "stream",
          "name": "stdout",
          "text": [
            "[ 1  2  2  4  2  4  2  4  6  2  6  4  2  4  6  6  2  6  4  2  6  4  6  8\n",
            "  4  2  4  2  4 14  4  6  2 10  2  6  6  4  6  6  2 10  2  4  2 12 12  4\n",
            "  2  4  6  2 10  6  6  6  2  6  4  2 10 14  4  2  4 14  6 10  2  4  6  8\n",
            "  6  6  4  6  8  4  8 10  2 10  2  6  4  6  8  4  2  4 12  8  4  8  4  6\n",
            " 12  2 18  6]\n"
          ]
        }
      ]
    },
    {
      "cell_type": "markdown",
      "metadata": {
        "id": "nmMeiaSpo1N2"
      },
      "source": [
        "What have we done?  It is useful to try out this method on a short list.  "
      ]
    },
    {
      "cell_type": "code",
      "metadata": {
        "id": "on-JH3dTo1N2"
      },
      "source": [
        "L = [1,3,7,20]  # A nice short list."
      ],
      "execution_count": 60,
      "outputs": []
    },
    {
      "cell_type": "code",
      "metadata": {
        "id": "f4iyePe3o1N2",
        "colab": {
          "base_uri": "https://localhost:8080/"
        },
        "outputId": "5d8bfbe0-514b-4623-b8c3-aabaf47d54ea"
      },
      "source": [
        "print(L[:-1])\n",
        "print(L[1:])"
      ],
      "execution_count": 61,
      "outputs": [
        {
          "output_type": "stream",
          "name": "stdout",
          "text": [
            "[1, 3, 7]\n",
            "[3, 7, 20]\n"
          ]
        }
      ]
    },
    {
      "cell_type": "markdown",
      "metadata": {
        "id": "gpKfCHEEo1N3"
      },
      "source": [
        "Now we have two lists of the same length.  The gaps in the original list `L` are the differences between terms of the *same* index in the two new lists.  One might be tempted to just subtract, e.g., with the command `L[1:] - L[:-1]`, but subtraction is not defined for lists.\n",
        "\n",
        "Fortunately, by converting the lists to numpy arrays, we can use numpy's term-by-term subtraction operation."
      ]
    },
    {
      "cell_type": "code",
      "metadata": {
        "id": "H2Ob8Jkro1N3",
        "colab": {
          "base_uri": "https://localhost:8080/",
          "height": 165
        },
        "outputId": "d2e0d627-270e-44a3-e8df-6571f5690f7d"
      },
      "source": [
        "L[1:] - L[:-1]  # This will give a TypeError.  You can't subtract lists!"
      ],
      "execution_count": 16,
      "outputs": [
        {
          "output_type": "error",
          "ename": "NameError",
          "evalue": "ignored",
          "traceback": [
            "\u001b[0;31m---------------------------------------------------------------------------\u001b[0m",
            "\u001b[0;31mNameError\u001b[0m                                 Traceback (most recent call last)",
            "\u001b[0;32m<ipython-input-16-0c27eb74e0a4>\u001b[0m in \u001b[0;36m<module>\u001b[0;34m\u001b[0m\n\u001b[0;32m----> 1\u001b[0;31m \u001b[0mL\u001b[0m\u001b[0;34m[\u001b[0m\u001b[0;36m1\u001b[0m\u001b[0;34m:\u001b[0m\u001b[0;34m]\u001b[0m \u001b[0;34m-\u001b[0m \u001b[0mL\u001b[0m\u001b[0;34m[\u001b[0m\u001b[0;34m:\u001b[0m\u001b[0;34m-\u001b[0m\u001b[0;36m1\u001b[0m\u001b[0;34m]\u001b[0m  \u001b[0;31m# This will give a TypeError.  You can't subtract lists!\u001b[0m\u001b[0;34m\u001b[0m\u001b[0;34m\u001b[0m\u001b[0m\n\u001b[0m",
            "\u001b[0;31mNameError\u001b[0m: name 'L' is not defined"
          ]
        }
      ]
    },
    {
      "cell_type": "code",
      "metadata": {
        "id": "lSkR4Dxho1N3",
        "colab": {
          "base_uri": "https://localhost:8080/"
        },
        "outputId": "eec85e46-5c59-4e9c-dbb2-6d556f82488c"
      },
      "source": [
        "numpy.array(L[1:]) - numpy.array(L[:-1])  # That's better.  See the gaps in the list [1,3,7,20] in the output."
      ],
      "execution_count": 63,
      "outputs": [
        {
          "output_type": "execute_result",
          "data": {
            "text/plain": [
              "array([ 2,  4, 13])"
            ]
          },
          "metadata": {},
          "execution_count": 63
        }
      ]
    },
    {
      "cell_type": "markdown",
      "metadata": {
        "id": "-dVIfFnVo1N3"
      },
      "source": [
        "Now let's return to our primegaps data set.  It contains all the gap-sizes for primes up to 1 million.  "
      ]
    },
    {
      "cell_type": "code",
      "metadata": {
        "id": "i9FFJvMbo1N3",
        "colab": {
          "base_uri": "https://localhost:8080/"
        },
        "outputId": "1c8e903c-7585-4bc2-bd12-51f825066b16"
      },
      "source": [
        "print(len(primes))\n",
        "print(len(primegaps))  # This should be one less than the number of primes."
      ],
      "execution_count": 64,
      "outputs": [
        {
          "output_type": "stream",
          "name": "stdout",
          "text": [
            "78498\n",
            "78497\n"
          ]
        }
      ]
    },
    {
      "cell_type": "markdown",
      "metadata": {
        "id": "hz93cWX1o1N3"
      },
      "source": [
        "As a last example of data visualization, we use matplotlib to produce a histogram of the prime gaps."
      ]
    },
    {
      "cell_type": "code",
      "metadata": {
        "id": "6V5Nj_MCo1N3",
        "colab": {
          "base_uri": "https://localhost:8080/"
        },
        "outputId": "aa878ad5-2502-4c1e-f2ee-ce1a4bb9e907"
      },
      "source": [
        "max(primegaps)  # The largest prime gap that appears!"
      ],
      "execution_count": 65,
      "outputs": [
        {
          "output_type": "execute_result",
          "data": {
            "text/plain": [
              "114"
            ]
          },
          "metadata": {},
          "execution_count": 65
        }
      ]
    },
    {
      "cell_type": "code",
      "metadata": {
        "id": "rOFsdO1Uo1N3",
        "colab": {
          "base_uri": "https://localhost:8080/",
          "height": 350
        },
        "outputId": "6ff9c0ad-a6a7-4b87-9b37-3b4134828cd5"
      },
      "source": [
        "%matplotlib inline\n",
        "plt.figure(figsize=(12, 5))  #  Makes the resulting figure 12in by 5in.\n",
        "plt.hist(primegaps, bins=range(1,80)) #  Makes a histogram with one bin for each possible gap from 1 to 114.\n",
        "plt.ylabel('Frequency')\n",
        "plt.xlabel('Gap size')\n",
        "plt.grid(True)\n",
        "plt.title('The frequency of prime gaps, for primes up to 1 million')\n",
        "plt.show()"
      ],
      "execution_count": 66,
      "outputs": [
        {
          "output_type": "display_data",
          "data": {
            "text/plain": [
              "<Figure size 864x360 with 1 Axes>"
            ],
            "image/png": "[encoded data removed]"
          },
          "metadata": {
            "needs_background": "light"
          }
        }
      ]
    },
    {
      "cell_type": "markdown",
      "metadata": {
        "id": "kkWLq7QLo1N3"
      },
      "source": [
        "Observe that gaps of 2 (twin primes) are pretty frequent.  There are over 8000 of them, and about the same number of 4-unit gaps!  But gaps of 6 are most frequent in the population, and there are some interesting peaks at 6, 12, 18, 24, 30.  What else do you observe?\n",
        "\n",
        "Well, these peaks are all multiples of 6, so it makes sense if 6 is most frequent there would be peaks at 6's multiples."
      ]
    },
    {
      "cell_type": "markdown",
      "metadata": {
        "id": "yt5JakuSo1N3"
      },
      "source": [
        "### Exercises\n",
        "\n",
        "1.  Create functions `redprimes_upto(x)` and `blueprimes_upto(x)` which count the number of red/blue primes up to a given number `x`.  Recall that we defined red/blue primes to be those of the form 4n+1 or 4n+3, respectively.  Graph the relative proportion of red/blue primes as `x` varies from 1 to 1 million.  E.g., are the proportions 50%/50% or 70%/30%, and how do these proportions change?  Note:  this is also visualized in [An Illustrated Theory of Numbers](http://bookstore.ams.org/mbk-105) and you can read [an article by Rubinstein and Sarnak](https://projecteuclid.org/euclid.em/1048515870) for more.\n",
        "\n",
        "2.  Does there seem to be a bias in the last digits of primes?  Note that, except for 2 and 5, every prime ends in 1,3,7, or 9.  Note: the last digit of a number `n` is obtained from `n % 10`.  \n",
        "\n",
        "3.  Read about the [\"Prime Conspiracy\"](https://www.quantamagazine.org/mathematicians-discover-prime-conspiracy-20160313), recently discovered by Lemke Oliver and Soundararajan.  Can you detect their conspiracy in our data set of primes?"
      ]
    },
    {
      "cell_type": "code",
      "source": [
        "#1\n",
        "%matplotlib inline\n",
        "plt.figure(figsize=(12, 5))\n",
        "\n",
        "plt.plot(redprimes)\n",
        "plt.plot(blueprimes)\n",
        "plt.ylabel(\"primes\")\n",
        "plt.xlabel(\"numbers\")\n",
        "plt.grid(True)\n",
        "plt.show()\n",
        "#we see below that the two lines are relatively simmilar, so we can say the proportions are about 50/50"
      ],
      "metadata": {
        "colab": {
          "base_uri": "https://localhost:8080/",
          "height": 345
        },
        "id": "4yh6_clg_9Ah",
        "outputId": "0dc40ee5-c8ac-4a84-d9cd-73953a8deb5e"
      },
      "execution_count": 17,
      "outputs": [
        {
          "output_type": "display_data",
          "data": {
            "text/plain": [
              "<Figure size 864x360 with 1 Axes>"
            ],
            "image/png": "[encoded data removed]"
          },
          "metadata": {
            "needs_background": "light"
          }
        }
      ]
    },
    {
      "cell_type": "code",
      "source": [
        "\n",
        "\n"
      ],
      "metadata": {
        "id": "KwNusIBW7cGn"
      },
      "execution_count": 1,
      "outputs": []
    },
    {
      "cell_type": "code",
      "source": [
        "#2\n",
        "\n",
        "count_1= [p for p in primes[:100] if p%10 == 1]\n",
        "count_2= [p for p in primes[:100] if p%10 == 2]\n",
        "count_3= [p for p in primes[:100] if p%10 == 3]\n",
        "\n",
        "count_5= [p for p in primes[:100] if p%10 == 5]\n",
        "\n",
        "count_7= [p for p in primes[:100] if p%10 == 7]\n",
        "\n",
        "count_9= [p for p in primes[:100] if p%10 == 9]\n",
        "print(len(count_1),\"of the first 100 primes have last digit 1\")\n",
        "print(len(count_2),\"of the first 100 primes have last digit 2\")\n",
        "print(len(count_3),\"of the first 100 primes have last digit 3\")\n",
        "print(len(count_5),\"of the first 100 primes have last digit 5\")\n",
        "print(len(count_7),\"of the first 100 primes have last digit 7\")\n",
        "print(len(count_9),\"of the first 100 primes have last digit 9\")\n",
        "\n",
        "#we see that primes with the last digit 3 occur more in the first 100 primes.\n",
        "#lets check 1000\n",
        "count_1= [p for p in primes[:1000] if p%10 == 1]\n",
        "count_2= [p for p in primes[:1000] if p%10 == 2]\n",
        "count_3= [p for p in primes[:1000] if p%10 == 3]\n",
        "\n",
        "count_5= [p for p in primes[:1000] if p%10 == 5]\n",
        "\n",
        "count_7= [p for p in primes[:1000] if p%10 == 7]\n",
        "\n",
        "count_9= [p for p in primes[:1000] if p%10 == 9]\n",
        "print(len(count_1),\"of the first 1000 primes have last digit 1\")\n",
        "print(len(count_2),\"of the first 1000 primes have last digit 2\")\n",
        "print(len(count_3),\"of the first 1000 primes have last digit 3\")\n",
        "print(len(count_5),\"of the first 1000 primes have last digit 5\")\n",
        "print(len(count_7),\"of the first 1000 primes have last digit 7\")\n",
        "print(len(count_9),\"of the first 1000 primes have last digit 9\")\n",
        "\n",
        "#we see that primes with the last digit 7 occur more in the first 1000 primes, but only barely beating 3 while 1 and 9 have a bigger gap in comparison\n",
        "\n",
        "\n"
      ],
      "metadata": {
        "colab": {
          "base_uri": "https://localhost:8080/"
        },
        "id": "WEF58NIzc6Kw",
        "outputId": "fdc56091-4c5d-4a54-cdf3-f59008d93391"
      },
      "execution_count": 108,
      "outputs": [
        {
          "output_type": "stream",
          "name": "stdout",
          "text": [
            "24 of the first 100 primes have last digit 1\n",
            "1 of the first 100 primes have last digit 2\n",
            "26 of the first 100 primes have last digit 3\n",
            "1 of the first 100 primes have last digit 5\n",
            "24 of the first 100 primes have last digit 7\n",
            "24 of the first 100 primes have last digit 9\n",
            "245 of the first 1000 primes have last digit 1\n",
            "1 of the first 1000 primes have last digit 2\n",
            "253 of the first 1000 primes have last digit 3\n",
            "1 of the first 1000 primes have last digit 5\n",
            "254 of the first 1000 primes have last digit 7\n",
            "246 of the first 1000 primes have last digit 9\n"
          ]
        }
      ]
    },
    {
      "cell_type": "code",
      "source": [
        "#3\n",
        "arrayprime=numpy.array(primes[:10])\n",
        "listprimelastdigits=list(arrayprime%10)\n",
        "print(listprimelastdigits)\n",
        "#this creates a list of the last digits of the prime numbers\n",
        "#from this we can check to see which digits follow the others and see if there are any that repeat.\n",
        "#From the first 10 numbers we see no repeating digits, and so for this particular set of primes we see the conspiracy holds\n",
        "#now lets check the next 10 numbers\n",
        "arrayprime_1=numpy.array(primes[10:20])\n",
        "listprimelastdigits_1=list(arrayprime_1%10)\n",
        "print(listprimelastdigits_1)\n",
        "#Here, again we see the conspiracy holds.\n",
        "#now lets check the next 25 numbers\n",
        "arrayprime_2=numpy.array(primes[20:45])\n",
        "listprimelastdigits_2=list(arrayprime_2%10)\n",
        "print(listprimelastdigits_2)\n",
        "#here we see a pair of repeating 9s and 1s, so for this section the conspiracy doesnt necessarily hold.\n",
        "\n"
      ],
      "metadata": {
        "id": "5iJT47CJ1VUw",
        "colab": {
          "base_uri": "https://localhost:8080/"
        },
        "outputId": "307a0bcb-65ea-48fb-b800-b4b240ba4d66"
      },
      "execution_count": 13,
      "outputs": [
        {
          "output_type": "stream",
          "name": "stdout",
          "text": [
            "[2, 3, 5, 7, 1, 3, 7, 9, 3, 9]\n",
            "[1, 7, 1, 3, 7, 3, 9, 1, 7, 1]\n",
            "[3, 9, 3, 9, 7, 1, 3, 7, 9, 3, 7, 1, 7, 9, 9, 1, 7, 3, 7, 3, 9, 1, 1, 3, 7]\n"
          ]
        }
      ]
    },
    {
      "cell_type": "code",
      "source": [],
      "metadata": {
        "id": "HkhG9bu3fQZn"
      },
      "execution_count": null,
      "outputs": []
    }
  ]
}